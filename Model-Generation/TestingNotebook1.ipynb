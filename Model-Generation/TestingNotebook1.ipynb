{
 "cells": [
  {
   "cell_type": "code",
   "execution_count": 1,
   "metadata": {},
   "outputs": [],
   "source": [
    "import os\n",
    "newestModel = True #If this is set to true it will use the newest model in the models folder and ignore modelToTest\n",
    "modelToTest = ''\n",
    "threads = 16 #Number of threads to use for multithreaded tasks\n",
    "pathToModelFolder = '/home/jaredrussell/CPPMLGenMini/Models'\n",
    "pathToDataFolder = '/home/jaredrussell/CPPDatasetMin'\n",
    "#pathToDataFolder = '~/SPDataset/MiniTestingDataset'\n",
    "#a folder inthe models folder contains the following files: model.h5, tokenizer.json commitHash.txt (For SCA-Tokenizer)\n",
    "useCurrentSCATokenizer = '/home/jaredrussell/gitRepos/SCA-ML-grade/Model-Generation/SCA-Tokenizer' #If this is set to anything other than '' it will use the current SCA-Token in the SCA-Token folder and ignore the modelToTest"
   ]
  },
  {
   "cell_type": "code",
   "execution_count": 2,
   "metadata": {},
   "outputs": [
    {
     "name": "stderr",
     "output_type": "stream",
     "text": [
      "2023-11-28 19:01:38.254433: I external/local_tsl/tsl/cuda/cudart_stub.cc:31] Could not find cuda drivers on your machine, GPU will not be used.\n",
      "2023-11-28 19:01:38.284896: E external/local_xla/xla/stream_executor/cuda/cuda_dnn.cc:9261] Unable to register cuDNN factory: Attempting to register factory for plugin cuDNN when one has already been registered\n",
      "2023-11-28 19:01:38.284922: E external/local_xla/xla/stream_executor/cuda/cuda_fft.cc:607] Unable to register cuFFT factory: Attempting to register factory for plugin cuFFT when one has already been registered\n",
      "2023-11-28 19:01:38.285855: E external/local_xla/xla/stream_executor/cuda/cuda_blas.cc:1515] Unable to register cuBLAS factory: Attempting to register factory for plugin cuBLAS when one has already been registered\n",
      "2023-11-28 19:01:38.290599: I external/local_tsl/tsl/cuda/cudart_stub.cc:31] Could not find cuda drivers on your machine, GPU will not be used.\n",
      "2023-11-28 19:01:38.290951: I tensorflow/core/platform/cpu_feature_guard.cc:182] This TensorFlow binary is optimized to use available CPU instructions in performance-critical operations.\n",
      "To enable the following instructions: AVX2 FMA, in other operations, rebuild TensorFlow with the appropriate compiler flags.\n",
      "2023-11-28 19:01:38.979431: W tensorflow/compiler/tf2tensorrt/utils/py_utils.cc:38] TF-TRT Warning: Could not find TensorRT\n"
     ]
    }
   ],
   "source": [
    "import os\n",
    "import pickle\n",
    "from keras.models import load_model\n",
    "from keras.preprocessing.sequence import pad_sequences\n",
    "import json\n",
    "import threading as th\n",
    "import numpy as np\n",
    "import pandas as pd\n",
    "import matplotlib.pyplot as plt\n",
    "import re\n",
    "import sys\n",
    "import subprocess\n",
    "import time\n",
    "import datetime\n",
    "import random\n",
    "import math\n",
    "from keras.preprocessing.sequence import pad_sequences\n",
    "from keras.preprocessing.text import tokenizer_from_json\n",
    "\n",
    "\n",
    "\n",
    "catigoryInputModel = False\n",
    "\n",
    "\n",
    "def homePath(path):\n",
    "    if path[0] == '~':\n",
    "        return os.path.join(os.path.expanduser(\"~\"), path.strip(\"~/\"))\n",
    "    else:\n",
    "        return path\n",
    "\n",
    "pathToModelFolder = homePath(pathToModelFolder)\n",
    "pathToDataFolder = homePath(pathToDataFolder)\n",
    "\n",
    "def printProgressBar (iteration, total, prefix = '', suffix = '', decimals = 1, length = 100, fill = '█', printEnd = \"\\r\"):\n",
    "    \"\"\"\n",
    "    Call in a loop to create terminal progress bar\n",
    "    @params:\n",
    "        iteration   - Required  : current iteration (Int)\n",
    "        total       - Required  : total iterations (Int)\n",
    "        prefix      - Optional  : prefix string (Str)\n",
    "        suffix      - Optional  : suffix string (Str)\n",
    "        decimals    - Optional  : positive number of decimals in percent complete (Int)\n",
    "        length      - Optional  : character length of bar (Int)\n",
    "        fill        - Optional  : bar fill character (Str)\n",
    "        printEnd    - Optional  : end character (e.g. \"\\r\", \"\\r\\n\") (Str)\n",
    "    \"\"\"\n",
    "    percent = (\"{0:.\" + str(decimals) + \"f}\").format(100 * (iteration / float(total)))\n",
    "    filledLength = int(length * iteration // total)\n",
    "    bar = fill * filledLength + '-' * (length - filledLength)\n",
    "    print(f'\\r{prefix} |{bar}| {percent}% {suffix}', end = printEnd)\n",
    "    # Print New Line on Complete\n",
    "    if iteration == total: \n",
    "        print()\n",
    "\n",
    "\n",
    "def searchFileName(path, fileName):\n",
    "    filesToDo = []\n",
    "    for root, dirs, files in os.walk(path):\n",
    "        for file in files:\n",
    "            if file == fileName:\n",
    "                    filesToDo.append(os.path.join(root, file).split(path)[1])\n",
    "    return filesToDo\n",
    "\n"
   ]
  },
  {
   "cell_type": "code",
   "execution_count": 3,
   "metadata": {},
   "outputs": [
    {
     "name": "stdout",
     "output_type": "stream",
     "text": [
      "Using newest model: 2023-11-28_18-59-30-932847\n",
      "Model: \"sequential\"\n",
      "_________________________________________________________________\n",
      " Layer (type)                Output Shape              Param #   \n",
      "=================================================================\n",
      " embedding (Embedding)       (None, 500, 64)           32000     \n",
      "                                                                 \n",
      " conv1d (Conv1D)             (None, 498, 64)           12352     \n",
      "                                                                 \n",
      " global_max_pooling1d (Glob  (None, 64)                0         \n",
      " alMaxPooling1D)                                                 \n",
      "                                                                 \n",
      " reshape (Reshape)           (None, 1, 64)             0         \n",
      "                                                                 \n",
      " bidirectional (Bidirection  (None, 1, 128)            66048     \n",
      " al)                                                             \n",
      "                                                                 \n",
      " dropout (Dropout)           (None, 1, 128)            0         \n",
      "                                                                 \n",
      " bidirectional_1 (Bidirecti  (None, 64)                41216     \n",
      " onal)                                                           \n",
      "                                                                 \n",
      " flatten (Flatten)           (None, 64)                0         \n",
      "                                                                 \n",
      " dense (Dense)               (None, 32)                2080      \n",
      "                                                                 \n",
      " dense_1 (Dense)             (None, 1)                 33        \n",
      "                                                                 \n",
      "=================================================================\n",
      "Total params: 153729 (600.50 KB)\n",
      "Trainable params: 153729 (600.50 KB)\n",
      "Non-trainable params: 0 (0.00 Byte)\n",
      "_________________________________________________________________\n",
      "None\n"
     ]
    }
   ],
   "source": [
    "#File Loading\n",
    "\n",
    "import sys\n",
    "sys.path.append('./SCA-Tokenizer/')\n",
    "sys.path.append('./TokenCatigoryGenerator')\n",
    "import TokenizerManager\n",
    "import TokenCatigoryApplier\n",
    "\n",
    "\n",
    "if newestModel:\n",
    "    models = os.listdir(pathToModelFolder)\n",
    "    models.sort()\n",
    "    modelToTest = models[-1]\n",
    "    print(\"Using newest model: \" + modelToTest)\n",
    "else:\n",
    "    print(\"Using model: \" + modelToTest)\n",
    "model = load_model(pathToModelFolder + '/' +modelToTest + '/model.h5')\n",
    "print (model.summary())\n",
    "\n",
    "#load tokenizer from json that used the .tokenizer.save() function\n",
    "#check if it's .json or .pkl\n",
    "if os.path.isfile(pathToModelFolder + '/' + modelToTest + '/tokenizer.pkl'):\n",
    "    with open(pathToModelFolder + '/' + modelToTest + '/tokenizer.pkl', 'rb') as f:\n",
    "        tokenizerModel = pickle.load(f)\n",
    "else:\n",
    "    with open(pathToModelFolder + '/' + modelToTest + '/tokenizer.json') as f:\n",
    "        tokenizerModel = tokenizer_from_json(f.read())\n",
    "\n",
    "#check if groupings are being used \n",
    "# check if GroupDict.npy exists\n",
    "if os.path.isfile(pathToModelFolder + '/' + modelToTest + '/GroupDict.npy'):\n",
    "    catigoryInputModel = True\n",
    "    print(\"Using catigory input model\")\n",
    "    groupDict = np.load(pathToModelFolder + '/' + modelToTest + '/GroupDict.npy', allow_pickle=True).item()\n",
    "    print(groupDict)\n"
   ]
  },
  {
   "cell_type": "code",
   "execution_count": 4,
   "metadata": {},
   "outputs": [
    {
     "name": "stdout",
     "output_type": "stream",
     "text": [
      "completed folder index\n",
      "Progressing (Not Multithreaded): |██████████████████████████████████████████████████| 100.0% Complete\n",
      "Finishing\n",
      "Tokenizing\n",
      "                                           tokenCode  \\████████████████████---------| 83.3% Complete\n",
      "0   108 285 29 286 61 128 135 2 136 3 187 137 138...   \n",
      "1   108 285 29 286 61 128 135 2 136 3 187 137 138...   \n",
      "2   108 230 29 231 128 135 2 136 3 187 137 138 24...   \n",
      "3   108 230 29 231 128 135 2 136 3 173 137 138 25...   \n",
      "4   108 230 29 231 128 135 2 136 3 173 137 138 25...   \n",
      "5   108 230 29 231 128 135 2 136 3 173 137 138 25...   \n",
      "\n",
      "                        Path  \n",
      "0    /52652/Button.cpp/0.cpp  \n",
      "1    /52652/Button.cpp/1.cpp  \n",
      "2  /52669/FancyLED.cpp/0.cpp  \n",
      "3  /52669/FancyLED.cpp/2.cpp  \n",
      "4  /52669/FancyLED.cpp/1.cpp  \n",
      "5  /52669/FancyLED.cpp/3.cpp  \n"
     ]
    }
   ],
   "source": [
    "\n",
    "\n",
    "dfTokens = TokenizerManager.tokenStart(pathToDataFolder, tokenizer=tokenizerModel, multiThreadProcessing = False)\n",
    "\n",
    "if catigoryInputModel:\n",
    "    dfCatigories = TokenCatigoryApplier.translateTokens(groupDict, dfTokens)\n",
    "\n",
    "\n",
    "    \n"
   ]
  },
  {
   "cell_type": "code",
   "execution_count": 5,
   "metadata": {},
   "outputs": [
    {
     "name": "stdout",
     "output_type": "stream",
     "text": [
      "6rocessing Files |█████████████████████████-------------------------| 50.0% Complete\n",
      "   fileGrade                       Path\n",
      "0       17.0    /52652/Button.cpp/0.cpp\n",
      "1       27.0    /52652/Button.cpp/1.cpp\n",
      "2        0.0  /52669/FancyLED.cpp/0.cpp\n",
      "3        1.4  /52669/FancyLED.cpp/1.cpp\n",
      "4        6.4  /52669/FancyLED.cpp/2.cpp\n",
      "5       11.4  /52669/FancyLED.cpp/3.cpp\n",
      "Time Taken: 0.0051116943359375\n"
     ]
    }
   ],
   "source": [
    "#Grading Code\n",
    "sys.path.append('../Auto-Grader/')\n",
    "import Grader\n",
    "#prevent warnings from printing\n",
    "import warnings\n",
    "warnings.simplefilter(action='ignore', category=FutureWarning)\n",
    "dfGrades = Grader.bootstrap(pathToDataFolder)"
   ]
  },
  {
   "cell_type": "code",
   "execution_count": 7,
   "metadata": {},
   "outputs": [],
   "source": [
    "combinedDF = pd.merge(dfGrades, dfTokens, on = \"Path\")\n"
   ]
  },
  {
   "cell_type": "code",
   "execution_count": 8,
   "metadata": {},
   "outputs": [],
   "source": [
    "#get max length of tokens from model\n",
    "maxLen = model.layers[0].input_shape[1]\n",
    "#combinedDF = combinedDF[combinedDF[\"tokenCode\"].apply(lambda x: len(x)) <= maxLen]\n",
    "\n",
    "#FOR TESTING, REDUCE TOKEN SIZE WHEN OVER maxLen\n",
    "combinedDF[\"tokenCode\"] = combinedDF[\"tokenCode\"].apply(lambda x: [int(i) for i in x.split()[:maxLen]])\n",
    "#reset index\n",
    "combinedDF = combinedDF.reset_index(drop=True)\n",
    "#Pad the sequences\n",
    "combinedDF[\"tokenCode\"] = pad_sequences(combinedDF[\"tokenCode\"], maxlen = maxLen, padding = \"post\", truncating = \"post\").tolist()\n",
    "\n",
    "if catigoryInputModel:\n",
    "    combinedDF[\"tokenCatigory\"] = pad_sequences(combinedDF[\"tokenCatigory\"], maxlen = maxLen, padding = \"post\", truncating = \"post\").tolist()"
   ]
  },
  {
   "cell_type": "code",
   "execution_count": 9,
   "metadata": {},
   "outputs": [
    {
     "name": "stdout",
     "output_type": "stream",
     "text": [
      "1/1 [==============================] - 1s 916ms/step\n"
     ]
    }
   ],
   "source": [
    "\n",
    "#add new colum to combinedDF for the model prediction\n",
    "combinedDF[\"predictedGrade\"] = None\n",
    "showMessage = True\n",
    "\n",
    "\n",
    "\"\"\"\n",
    "    for i, row in combinedDF.iterrows():\n",
    "        if combinedDF[\"predictedGrade\"][i] == None:\n",
    "            combinedDF.loc[i, \"predictedGrade\"] = model.predict(np.array(row[\"tokenCode\"]).reshape(1, -1))\n",
    "            if showMessage:\n",
    "                printProgressBar(i, len(combinedDF), prefix = 'Progress:', suffix = 'Complete', length = 50)\n",
    "            print(np.array(np.array(row[\"tokenCode\"]).reshape(1, -1)))\n",
    "            break\n",
    "\"\"\"\n",
    "    #INSTEAD OF ITTERATING FEED THE WHOLE LIST\n",
    "combinedDF[\"predictedGrade\"] = model.predict(np.array(combinedDF[\"tokenCode\"].tolist()))\n",
    "\n",
    "\n",
    "#make dir if it doesn't exist\n",
    "if not os.path.exists(homePath(\"~/SPGenerations/\") + '/' + \"testingData\" + '/' + modelToTest):\n",
    "    os.makedirs(homePath(\"~/SPGenerations/\") + '/' + \"testingData\" + '/' + modelToTest)\n",
    "\n",
    "\n",
    "\n",
    "combinedDF.to_pickle(homePath(\"~/SPGenerations/\") + '/' + \"testingData\" + '/' + modelToTest + '/combinedDF.pkl')\n",
    "dataSetVersion = pathToDataFolder\n",
    "\n",
    "#write that to a file\n",
    "with open(homePath(\"~/SPGenerations/\") + '/' + \"testingData\" + '/' + modelToTest + '/dataSetVersion.txt', 'w') as file:\n",
    "    file.write(dataSetVersion)\n",
    "    \n",
    "        \n",
    "\n"
   ]
  },
  {
   "cell_type": "code",
   "execution_count": 10,
   "metadata": {},
   "outputs": [
    {
     "data": {
      "image/png": "[encoded data removed]",
      "text/plain": [
       "<Figure size 640x480 with 1 Axes>"
      ]
     },
     "metadata": {},
     "output_type": "display_data"
    }
   ],
   "source": [
    "#check accuracy\n",
    "correct = 0\n",
    "total = 0\n",
    "\n",
    "\n",
    "def getGradeRange(rangeofCorrect):\n",
    "    correct = 0\n",
    "    total = 0\n",
    "    for i in combinedDF.index:\n",
    "        if (combinedDF.at[i, \"predictedGrade\"] <= combinedDF.at[i, \"fileGrade\"] + rangeofCorrect and combinedDF.at[i, \"predictedGrade\"] >= combinedDF.at[i, \"fileGrade\"] - rangeofCorrect):\n",
    "            correct += 1\n",
    "        total += 1\n",
    "    return correct, total\n",
    "\n",
    "\n",
    "\n",
    "#generate a graph\n",
    "import matplotlib.pyplot as plt\n",
    "import numpy as np\n",
    "\n",
    "x = np.arange(0, 25, 1)\n",
    "y = []\n",
    "for i in x:\n",
    "    correct, total = getGradeRange(i)\n",
    "    y.append(correct/total)\n",
    "plt.plot(x, y)\n",
    "plt.xlabel('Range of Correct')\n",
    "plt.ylabel('Accuracy')\n",
    "plt.title('Accuracy vs Range of Correct')\n",
    "plt.show()\n",
    "\n",
    "\n"
   ]
  },
  {
   "cell_type": "code",
   "execution_count": 11,
   "metadata": {},
   "outputs": [
    {
     "data": {
      "image/png": "[encoded data removed]",
      "text/plain": [
       "<Figure size 640x480 with 1 Axes>"
      ]
     },
     "metadata": {},
     "output_type": "display_data"
    },
    {
     "data": {
      "image/png": "[encoded data removed]",
      "text/plain": [
       "<Figure size 640x480 with 1 Axes>"
      ]
     },
     "metadata": {},
     "output_type": "display_data"
    }
   ],
   "source": [
    "#generate graph showing range of grades\n",
    "graph = plt.hist(combinedDF['fileGrade'], bins=20, range=(0, 100))\n",
    "plt.xticks([0, 5, 10, 15, 20, 25, 30, 35, 40, 45, 50, 55, 60, 65, 70, 75, 80, 85, 90, 95, 100])\n",
    "plt.xlabel(\"Grade Range\")\n",
    "plt.ylabel(\"Number of Commits\")\n",
    "plt.show()\n",
    "\n",
    "graph = plt.hist(combinedDF['predictedGrade'], bins=20, range=(0, 100))\n",
    "plt.xticks([0, 5, 10, 15, 20, 25, 30, 35, 40, 45, 50, 55, 60, 65, 70, 75, 80, 85, 90, 95, 100])\n",
    "plt.xlabel(\"Grade Range\")\n",
    "plt.ylabel(\"Number of Commits\")\n",
    "plt.show()"
   ]
  },
  {
   "cell_type": "code",
   "execution_count": 12,
   "metadata": {},
   "outputs": [
    {
     "name": "stdout",
     "output_type": "stream",
     "text": [
      "Accuracy for incriments 0.0% - 5.0%: 100.0%\n",
      "Accuracy for incriments 5.0% - 10.0%: 100.0%\n",
      "Accuracy for incriments 10.0% - 15.0%: 0.0%\n",
      "Accuracy for incriments 15.0% - 20.0%: 0.0%\n",
      "Accuracy for incriments 25.0% - 30.0%: 0.0%\n"
     ]
    }
   ],
   "source": [
    "incriments = 20\n",
    "rangeofCorrect = 5\n",
    "\n",
    "#break up the data into incriments\n",
    "for i in range(incriments):\n",
    "    #get the data for the incriments\n",
    "    incrimentsDF = combinedDF[(combinedDF[\"fileGrade\"] >= i * 100 / incriments) & (combinedDF[\"fileGrade\"] < (i + 1) * 100 / incriments)]\n",
    "    #get the accuracy for the incriments\n",
    "    correct = 0\n",
    "    total = 0\n",
    "    for j in incrimentsDF.index:\n",
    "        if (incrimentsDF.at[j, \"predictedGrade\"] <= incrimentsDF.at[j, \"fileGrade\"] + rangeofCorrect and incrimentsDF.at[j, \"predictedGrade\"] >= incrimentsDF.at[j, \"fileGrade\"] - rangeofCorrect):\n",
    "            correct += 1\n",
    "        total += 1\n",
    "    #print the accuracy\n",
    "    if(total != 0):\n",
    "        print (\"Accuracy for incriments \" + str(i * 100 / incriments) + \"% - \" + str((i + 1) * 100 / incriments) + \"%: \" + str(correct/total * 100) + \"%\")\n"
   ]
  },
  {
   "cell_type": "code",
   "execution_count": 13,
   "metadata": {},
   "outputs": [],
   "source": [
    "#comparitive commits tests\n",
    "\n",
    "#Make an array of dataframes which are created from combinedDF, and are split by their original file\n",
    "\n",
    "#Get the list of files\n",
    "files = combinedDF[\"Path\"]\n",
    "\n",
    "\n",
    "#split all the files by the last / and get the first element of the split\n",
    "\n",
    "files = [file.rsplit(\"/\",1)[0] for file in files]\n",
    "#remove duplicates\n",
    "files = list(dict.fromkeys(files))\n",
    "\n",
    "#reset index\n",
    "\n",
    "#make an array of dataframes\n",
    "dataframes = []\n",
    "for i in range(len(files)):\n",
    "    dataframes.append([])\n",
    "for i in combinedDF.index:\n",
    "    #get index of files where the file name is the same as the current file name\n",
    "    index = files.index(combinedDF.at[i, \"Path\"].rsplit(\"/\",1)[0])\n",
    "    dataframes[index].append(combinedDF.iloc[i])"
   ]
  },
  {
   "cell_type": "code",
   "execution_count": 14,
   "metadata": {},
   "outputs": [
    {
     "name": "stdout",
     "output_type": "stream",
     "text": [
      "Accuracy for per commit simple test: 100.0%\n"
     ]
    }
   ],
   "source": [
    "#per file commit simple test, checks if the previous commit is less than or equal to the current commit\n",
    "correct = 0\n",
    "equal = 0\n",
    "total = 0\n",
    "for dataframe in dataframes:\n",
    "    for i in range(1, len(dataframe)):\n",
    "        #make sure that the length of the dataframe is greater than 1\n",
    "        if (dataframe[i][\"predictedGrade\"] > dataframe[i - 1][\"predictedGrade\"]):\n",
    "            correct += 1\n",
    "            total += 1\n",
    "        elif (dataframe[i][\"predictedGrade\"] == dataframe[i - 1][\"predictedGrade\"]):\n",
    "            equal += 1\n",
    "        else:\n",
    "            total += 1\n",
    "print (\"Accuracy for per commit simple test: \" + str(correct/total * 100) + \"%\")"
   ]
  },
  {
   "cell_type": "code",
   "execution_count": 17,
   "metadata": {},
   "outputs": [
    {
     "name": "stdout",
     "output_type": "stream",
     "text": [
      "Average correct score: 1.1155866384506226\n",
      "Average incorrect score: 0\n",
      "Accuracy for per file commit gap test of size 1 : 100.0%\n",
      "Average correct score: 2.288468599319458\n",
      "Average incorrect score: 0\n",
      "Accuracy for per file commit gap test of size 2 : 100.0%\n",
      "Average correct score: 4.358474254608154\n",
      "Average incorrect score: 0\n",
      "Accuracy for per file commit gap test of size 3 : 100.0%\n",
      "This data is junk\n"
     ]
    },
    {
     "ename": "ZeroDivisionError",
     "evalue": "division by zero",
     "output_type": "error",
     "traceback": [
      "\u001b[0;31m---------------------------------------------------------------------------\u001b[0m",
      "\u001b[0;31mZeroDivisionError\u001b[0m                         Traceback (most recent call last)",
      "\u001b[1;32m/home/jaredrussell/gitRepos/SCA-ML-grade/Model-Generation/TestingNotebook1.ipynb Cell 19\u001b[0m line \u001b[0;36m3\n\u001b[1;32m     <a href='vscode-notebook-cell:/home/jaredrussell/gitRepos/SCA-ML-grade/Model-Generation/TestingNotebook1.ipynb#X24sZmlsZQ%3D%3D?line=32'>33</a>\u001b[0m     \u001b[39mreturn\u001b[39;00m correct\u001b[39m/\u001b[39mtotal \u001b[39m*\u001b[39m \u001b[39m100\u001b[39m \n\u001b[1;32m     <a href='vscode-notebook-cell:/home/jaredrussell/gitRepos/SCA-ML-grade/Model-Generation/TestingNotebook1.ipynb#X24sZmlsZQ%3D%3D?line=35'>36</a>\u001b[0m \u001b[39mfor\u001b[39;00m i \u001b[39min\u001b[39;00m \u001b[39mrange\u001b[39m(\u001b[39m1\u001b[39m, \u001b[39m100\u001b[39m):\n\u001b[0;32m---> <a href='vscode-notebook-cell:/home/jaredrussell/gitRepos/SCA-ML-grade/Model-Generation/TestingNotebook1.ipynb#X24sZmlsZQ%3D%3D?line=36'>37</a>\u001b[0m     gapTest(i)\n\u001b[1;32m     <a href='vscode-notebook-cell:/home/jaredrussell/gitRepos/SCA-ML-grade/Model-Generation/TestingNotebook1.ipynb#X24sZmlsZQ%3D%3D?line=38'>39</a>\u001b[0m \u001b[39m#graph this\u001b[39;00m\n\u001b[1;32m     <a href='vscode-notebook-cell:/home/jaredrussell/gitRepos/SCA-ML-grade/Model-Generation/TestingNotebook1.ipynb#X24sZmlsZQ%3D%3D?line=39'>40</a>\u001b[0m x \u001b[39m=\u001b[39m []\n",
      "\u001b[1;32m/home/jaredrussell/gitRepos/SCA-ML-grade/Model-Generation/TestingNotebook1.ipynb Cell 19\u001b[0m line \u001b[0;36m3\n\u001b[1;32m     <a href='vscode-notebook-cell:/home/jaredrussell/gitRepos/SCA-ML-grade/Model-Generation/TestingNotebook1.ipynb#X24sZmlsZQ%3D%3D?line=28'>29</a>\u001b[0m \u001b[39mif\u001b[39;00m (total \u001b[39m==\u001b[39m \u001b[39m0\u001b[39m):\n\u001b[1;32m     <a href='vscode-notebook-cell:/home/jaredrussell/gitRepos/SCA-ML-grade/Model-Generation/TestingNotebook1.ipynb#X24sZmlsZQ%3D%3D?line=29'>30</a>\u001b[0m     \u001b[39mprint\u001b[39m (\u001b[39m\"\u001b[39m\u001b[39mThis data is junk\u001b[39m\u001b[39m\"\u001b[39m)\n\u001b[0;32m---> <a href='vscode-notebook-cell:/home/jaredrussell/gitRepos/SCA-ML-grade/Model-Generation/TestingNotebook1.ipynb#X24sZmlsZQ%3D%3D?line=30'>31</a>\u001b[0m \u001b[39mprint\u001b[39m (\u001b[39m\"\u001b[39m\u001b[39mAccuracy for per file commit gap test of size \u001b[39m\u001b[39m\"\u001b[39m \u001b[39m+\u001b[39m \u001b[39mstr\u001b[39m(gap) \u001b[39m+\u001b[39m \u001b[39m\"\u001b[39m\u001b[39m : \u001b[39m\u001b[39m\"\u001b[39m \u001b[39m+\u001b[39m \u001b[39mstr\u001b[39m(correct\u001b[39m/\u001b[39;49mtotal \u001b[39m*\u001b[39m \u001b[39m100\u001b[39m) \u001b[39m+\u001b[39m \u001b[39m\"\u001b[39m\u001b[39m%\u001b[39m\u001b[39m\"\u001b[39m)\n\u001b[1;32m     <a href='vscode-notebook-cell:/home/jaredrussell/gitRepos/SCA-ML-grade/Model-Generation/TestingNotebook1.ipynb#X24sZmlsZQ%3D%3D?line=32'>33</a>\u001b[0m \u001b[39mreturn\u001b[39;00m correct\u001b[39m/\u001b[39mtotal \u001b[39m*\u001b[39m \u001b[39m100\u001b[39m\n",
      "\u001b[0;31mZeroDivisionError\u001b[0m: division by zero"
     ]
    }
   ],
   "source": [
    "#per file commit gap test, checks if the previous commit is less than or equal to the current commit in a gap of 10\n",
    "\n",
    "def gapTest(gap):\n",
    "    correct = 0\n",
    "    equal = 0\n",
    "    total = 0\n",
    "    avgCorrectScore = 0\n",
    "    avgIncorrectScore = 0\n",
    "    for dataframe in dataframes:\n",
    "        for i in range(gap, len(dataframe)):\n",
    "            #make sure that the length of the dataframe is greater than 1\n",
    "            if (dataframe[i][\"predictedGrade\"] > dataframe[i - gap][\"predictedGrade\"]):\n",
    "                correct += 1\n",
    "                avgCorrectScore += dataframe[i][\"predictedGrade\"] - dataframe[i - gap][\"predictedGrade\"]\n",
    "                total += 1\n",
    "            elif (dataframe[i][\"predictedGrade\"] == dataframe[i - gap][\"predictedGrade\"]):\n",
    "                equal += 1\n",
    "            else:\n",
    "                avgIncorrectScore += dataframe[i][\"predictedGrade\"] - dataframe[i - gap][\"predictedGrade\"]\n",
    "                total += 1\n",
    "    if (total != 0):\n",
    "        avgCorrectScore /= correct\n",
    "        try:\n",
    "            avgIncorrectScore /= total - correct\n",
    "        except:\n",
    "            avgIncorrectScore = 0\n",
    "        print (\"Average correct score: \" + str(avgCorrectScore))\n",
    "        print (\"Average incorrect score: \" + str(avgIncorrectScore))\n",
    "    if (total == 0):\n",
    "        print (\"This data is junk\")\n",
    "    print (\"Accuracy for per file commit gap test of size \" + str(gap) + \" : \" + str(correct/total * 100) + \"%\")\n",
    "\n",
    "    return correct/total * 100 \n",
    "\n",
    "\n",
    "for i in range(1, 100):\n",
    "    gapTest(i)\n",
    "\n",
    "#graph this\n",
    "x = []\n",
    "y = []\n",
    "for i in range(1, 100):\n",
    "    x.append(i)\n",
    "    y.append(gapTest(i))\n",
    "plt.plot(x, y)\n",
    "plt.xlabel(\"Gap Size\")\n",
    "plt.ylabel(\"Accuracy\")\n",
    "plt.show()\n"
   ]
  }
 ],
 "metadata": {
  "kernelspec": {
   "display_name": "Python 3",
   "language": "python",
   "name": "python3"
  },
  "language_info": {
   "codemirror_mode": {
    "name": "ipython",
    "version": 3
   },
   "file_extension": ".py",
   "mimetype": "text/x-python",
   "name": "python",
   "nbconvert_exporter": "python",
   "pygments_lexer": "ipython3",
   "version": "3.10.12"
  }
 },
 "nbformat": 4,
 "nbformat_minor": 2
}
