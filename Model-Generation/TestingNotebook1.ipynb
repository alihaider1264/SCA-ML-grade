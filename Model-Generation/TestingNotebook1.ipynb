{
 "cells": [
  {
   "cell_type": "code",
   "execution_count": 1,
   "metadata": {},
   "outputs": [],
   "source": [
    "import os\n",
    "newestModel = True #If this is set to true it will use the newest model in the models folder and ignore modelToTest\n",
    "modelToTest = ''\n",
    "threads = 16 #Number of threads to use for multithreaded tasks\n",
    "pathToModelFolder = '~/SPGenerations/Models/'\n",
    "pathToDataFolder = '~/SPDataset/S2DS129-1021DiffReposS245/'\n",
    "#a folder inthe models folder contains the following files: model.h5, tokenizer.json commitHash.txt (For SCA-Tokenizer)\n",
    "useCurrentSCATokenizer = '/home/mcall/SPGit/Model-Generation/SCA-Tokenizer' #If this is set to anything other than '' it will use the current SCA-Token in the SCA-Token folder and ignore the modelToTest"
   ]
  },
  {
   "cell_type": "code",
   "execution_count": 2,
   "metadata": {},
   "outputs": [
    {
     "name": "stderr",
     "output_type": "stream",
     "text": [
      "2023-10-23 22:35:43.725987: I tensorflow/core/util/port.cc:111] oneDNN custom operations are on. You may see slightly different numerical results due to floating-point round-off errors from different computation orders. To turn them off, set the environment variable `TF_ENABLE_ONEDNN_OPTS=0`.\n",
      "2023-10-23 22:35:43.760190: E tensorflow/compiler/xla/stream_executor/cuda/cuda_dnn.cc:9342] Unable to register cuDNN factory: Attempting to register factory for plugin cuDNN when one has already been registered\n",
      "2023-10-23 22:35:43.760212: E tensorflow/compiler/xla/stream_executor/cuda/cuda_fft.cc:609] Unable to register cuFFT factory: Attempting to register factory for plugin cuFFT when one has already been registered\n",
      "2023-10-23 22:35:43.760241: E tensorflow/compiler/xla/stream_executor/cuda/cuda_blas.cc:1518] Unable to register cuBLAS factory: Attempting to register factory for plugin cuBLAS when one has already been registered\n",
      "2023-10-23 22:35:43.767031: I tensorflow/core/platform/cpu_feature_guard.cc:182] This TensorFlow binary is optimized to use available CPU instructions in performance-critical operations.\n",
      "To enable the following instructions: AVX2 AVX512F AVX512_VNNI FMA, in other operations, rebuild TensorFlow with the appropriate compiler flags.\n"
     ]
    }
   ],
   "source": [
    "import os\n",
    "import pickle\n",
    "from keras.models import load_model\n",
    "from keras.preprocessing.sequence import pad_sequences\n",
    "import json\n",
    "import threading as th\n",
    "import numpy as np\n",
    "import pandas as pd\n",
    "import matplotlib.pyplot as plt\n",
    "import re\n",
    "import sys\n",
    "import subprocess\n",
    "import time\n",
    "import datetime\n",
    "import random\n",
    "import math\n",
    "from keras.preprocessing.text import Tokenizer\n",
    "from keras.preprocessing.sequence import pad_sequences\n",
    "from keras.preprocessing.text import tokenizer_from_json\n",
    "\n",
    "\n",
    "def homePath(path):\n",
    "    return os.path.join(os.path.expanduser(\"~\"), path.strip(\"~/\"))\n",
    "\n",
    "pathToModelFolder = homePath(pathToModelFolder)\n",
    "pathToDataFolder = homePath(pathToDataFolder)\n",
    "\n",
    "def printProgressBar (iteration, total, prefix = '', suffix = '', decimals = 1, length = 100, fill = '█', printEnd = \"\\r\"):\n",
    "    \"\"\"\n",
    "    Call in a loop to create terminal progress bar\n",
    "    @params:\n",
    "        iteration   - Required  : current iteration (Int)\n",
    "        total       - Required  : total iterations (Int)\n",
    "        prefix      - Optional  : prefix string (Str)\n",
    "        suffix      - Optional  : suffix string (Str)\n",
    "        decimals    - Optional  : positive number of decimals in percent complete (Int)\n",
    "        length      - Optional  : character length of bar (Int)\n",
    "        fill        - Optional  : bar fill character (Str)\n",
    "        printEnd    - Optional  : end character (e.g. \"\\r\", \"\\r\\n\") (Str)\n",
    "    \"\"\"\n",
    "    percent = (\"{0:.\" + str(decimals) + \"f}\").format(100 * (iteration / float(total)))\n",
    "    filledLength = int(length * iteration // total)\n",
    "    bar = fill * filledLength + '-' * (length - filledLength)\n",
    "    print(f'\\r{prefix} |{bar}| {percent}% {suffix}', end = printEnd)\n",
    "    # Print New Line on Complete\n",
    "    if iteration == total: \n",
    "        print()\n",
    "\n",
    "\n",
    "def searchFileName(path, fileName):\n",
    "    filesToDo = []\n",
    "    for root, dirs, files in os.walk(path):\n",
    "        for file in files:\n",
    "            if file == fileName:\n",
    "                    filesToDo.append(os.path.join(root, file).split(path)[1])\n",
    "    return filesToDo\n",
    "\n"
   ]
  },
  {
   "cell_type": "code",
   "execution_count": 3,
   "metadata": {},
   "outputs": [
    {
     "name": "stdout",
     "output_type": "stream",
     "text": [
      "Using newest model: 2023-10-17 18:59:54.067245\n"
     ]
    },
    {
     "name": "stderr",
     "output_type": "stream",
     "text": [
      "2023-10-23 22:36:09.097947: I tensorflow/core/common_runtime/gpu/gpu_device.cc:1886] Created device /job:localhost/replica:0/task:0/device:GPU:0 with 13173 MB memory:  -> device: 0, name: NVIDIA A2, pci bus id: 0000:11:00.0, compute capability: 8.6\n",
      "2023-10-23 22:36:09.098904: I tensorflow/core/common_runtime/gpu/gpu_device.cc:1886] Created device /job:localhost/replica:0/task:0/device:GPU:1 with 13173 MB memory:  -> device: 1, name: NVIDIA A2, pci bus id: 0000:b1:00.0, compute capability: 8.6\n",
      "2023-10-23 22:36:20.390015: I tensorflow/tsl/platform/default/subprocess.cc:304] Start cannot spawn child process: No such file or directory\n"
     ]
    },
    {
     "name": "stdout",
     "output_type": "stream",
     "text": [
      "Model: \"sequential\"\n",
      "_________________________________________________________________\n",
      " Layer (type)                Output Shape              Param #   \n",
      "=================================================================\n",
      " embedding (Embedding)       (None, 400, 1024)         10240000  \n",
      "                                                                 \n",
      " conv1d (Conv1D)             (None, 398, 2048)         6293504   \n",
      "                                                                 \n",
      " global_max_pooling1d (Glob  (None, 2048)              0         \n",
      " alMaxPooling1D)                                                 \n",
      "                                                                 \n",
      " reshape (Reshape)           (None, 1, 2048)           0         \n",
      "                                                                 \n",
      " bidirectional (Bidirection  (None, 1, 4096)           67125248  \n",
      " al)                                                             \n",
      "                                                                 \n",
      " dropout (Dropout)           (None, 1, 4096)           0         \n",
      "                                                                 \n",
      " bidirectional_1 (Bidirecti  (None, 2048)              41951232  \n",
      " onal)                                                           \n",
      "                                                                 \n",
      " flatten (Flatten)           (None, 2048)              0         \n",
      "                                                                 \n",
      " dense (Dense)               (None, 2048)              4196352   \n",
      "                                                                 \n",
      " dense_1 (Dense)             (None, 1)                 2049      \n",
      "                                                                 \n",
      "=================================================================\n",
      "Total params: 129808385 (495.18 MB)\n",
      "Trainable params: 129808385 (495.18 MB)\n",
      "Non-trainable params: 0 (0.00 Byte)\n",
      "_________________________________________________________________\n",
      "None\n"
     ]
    }
   ],
   "source": [
    "#File Loading\n",
    "\n",
    "if newestModel:\n",
    "    models = os.listdir(pathToModelFolder)\n",
    "    models.sort()\n",
    "    modelToTest = models[-1]\n",
    "    print(\"Using newest model: \" + modelToTest)\n",
    "else:\n",
    "    print(\"Using model: \" + modelToTest)\n",
    "model = load_model(pathToModelFolder + '/' +modelToTest + '/model.h5')\n",
    "print (model.summary())\n",
    "\n",
    "#load tokenizer from json that used the .tokenizer.save() function\n",
    "with open(pathToModelFolder + '/' + modelToTest + '/tokenizer.json') as f:\n",
    "    tokenizer = tokenizer_from_json(f.read())\n"
   ]
  },
  {
   "cell_type": "code",
   "execution_count": null,
   "metadata": {},
   "outputs": [],
   "source": [
    "#FOR MORE ADVANCED TESTS.\n",
    "pathToSCATokenizerFolder = os.getcwd() + '/SCA-Tokenizer/'\n",
    "if (not useCurrentSCATokenizer):\n",
    "    #TODO: Configure Git clone on the commit hash\n",
    "\n"
   ]
  },
  {
   "cell_type": "code",
   "execution_count": 4,
   "metadata": {},
   "outputs": [
    {
     "name": "stdout",
     "output_type": "stream",
     "text": [
      "completed folder index\n",
      "Progressing: |██████████████████████████████████████████████████| 100.0% Complete\n",
      "Finishing\n"
     ]
    }
   ],
   "source": [
    "import sys\n",
    "sys.path.append('./SCA-Tokenizer/')\n",
    "import TokenizerManager\n",
    "\n",
    "dfTokens = TokenizerManager.tokenStart(pathToDataFolder, tokenizer = tokenizer)"
   ]
  },
  {
   "cell_type": "code",
   "execution_count": null,
   "metadata": {},
   "outputs": [],
   "source": [
    "#Grading Code\n",
    "sys.path.append('../Auto-Grader/')\n",
    "import Grader\n",
    "\n",
    "dfGrades = Grader.bootstrap(pathToDataFolder)"
   ]
  },
  {
   "cell_type": "code",
   "execution_count": null,
   "metadata": {},
   "outputs": [],
   "source": []
  }
 ],
 "metadata": {
  "kernelspec": {
   "display_name": "Python 3",
   "language": "python",
   "name": "python3"
  },
  "language_info": {
   "codemirror_mode": {
    "name": "ipython",
    "version": 3
   },
   "file_extension": ".py",
   "mimetype": "text/x-python",
   "name": "python",
   "nbconvert_exporter": "python",
   "pygments_lexer": "ipython3",
   "version": "3.10.12"
  }
 },
 "nbformat": 4,
 "nbformat_minor": 2
}
