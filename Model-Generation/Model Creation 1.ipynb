{
 "cells": [
  {
   "cell_type": "code",
   "execution_count": null,
   "metadata": {},
   "outputs": [],
   "source": [
    "import pandas as pd\n",
    "import numpy as np\n",
    "import pickle\n",
    "from keras.preprocessing.text import Tokenizer\n",
    "from keras.utils import pad_sequences\n",
    "\n",
    "\n",
    "\n",
    "#Model Creation 1\n",
    "#Figure out how to do versioning effectively\n",
    "\n",
    "pathToTokenizedData = \"data/tokenizedData/\"\n",
    "pathToGradeData = \"data/gradeData/\"\n",
    "\n",
    "modelOutputPath = \"models/\"\n",
    "\n",
    "#Load the data\n",
    "#tokenized data is in tokenizedData.pkl, has tokenizer obj in tokenizer.json\n",
    "\n",
    "#Load the tokenizer\n",
    "with open(pathToTokenizedData + \"tokenizer.json\", \"r\") as f:\n",
    "    tokenizer = Tokenizer.from_json(f.read())\n",
    "\n",
    "#Load the tokenized data\n",
    "with open(pathToTokenizedData + \"tokenizedData.pkl\", \"rb\") as f:\n",
    "    tokenizedData = pickle.load(f)\n",
    "\n",
    "#Load the grade data\n",
    "#gradeData is a dict with keys as the file names and values as the grades\n",
    "with open(pathToGradeData + \"gradeData.pkl\", \"rb\") as f:\n",
    "    gradeData = pickle.load(f)\n",
    "\n",
    "\n",
    "\n",
    "\n",
    "\n"
   ]
  }
 ],
 "metadata": {
  "kernelspec": {
   "display_name": "Python 3",
   "language": "python",
   "name": "python3"
  },
  "language_info": {
   "name": "python",
   "version": "3.11.5"
  },
  "orig_nbformat": 4
 },
 "nbformat": 4,
 "nbformat_minor": 2
}
