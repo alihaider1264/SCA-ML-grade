{
 "cells": [
  {
   "cell_type": "code",
   "execution_count": 19,
   "metadata": {},
   "outputs": [
    {
     "name": "stdout",
     "output_type": "stream",
     "text": [
      "    fileGrade                                               Path\n",
      "0   40.000000                          \\3584343\\conftest.py\\0.py\n",
      "0   50.000000                          \\3584343\\conftest.py\\1.py\n",
      "0   46.000000                         \\3584343\\docs\\conf.py\\0.py\n",
      "0   42.000000                         \\3584343\\docs\\conf.py\\1.py\n",
      "0   44.000000                         \\3584343\\docs\\conf.py\\2.py\n",
      "..        ...                                                ...\n",
      "0   60.117647  \\3584343\\tests\\test_vertex_properties_function...\n",
      "0   61.294118  \\3584343\\tests\\test_vertex_properties_function...\n",
      "0   56.470588  \\3584343\\tests\\test_vertex_properties_function...\n",
      "0   57.647059  \\3584343\\tests\\test_vertex_properties_function...\n",
      "0   61.823529  \\3584343\\tests\\test_vertex_properties_function...\n",
      "\n",
      "[908 rows x 2 columns]\n"
     ]
    }
   ],
   "source": [
    "import pandas as pd\n",
    "import numpy as np\n",
    "import pickle\n",
    "from keras.preprocessing.text import Tokenizer\n",
    "from keras.preprocessing.text import tokenizer_from_json\n",
    "from keras.preprocessing.sequence import pad_sequences\n",
    "from keras.models import Sequential\n",
    "from keras.layers import Dense, Embedding, LSTM, GRU, Dropout\n",
    "from keras.callbacks import EarlyStopping\n",
    "from keras.models import load_model\n",
    "from keras.models import model_from_json\n",
    "\n",
    "from keras.utils import pad_sequences\n",
    "import os\n",
    "\n",
    "\n",
    "\n",
    "#Model Creation 1\n",
    "#Figure out how to do versioning effectively\n",
    "\n",
    "pathToTokenizedData = \"C:\\\\Users\\\\mcall\\\\OneDrive\\\\Desktop\\\\DummyOutput\\\\Tokenizer\\\\\"\n",
    "pathToGradeData = \"C:\\\\Users\\\\mcall\\\\OneDrive\\\\Desktop\\\\DummyOutput\\\\Grader\\\\\"\n",
    "\n",
    "modelOutputPath = \"models/\"\n",
    "\n",
    "#Load the data\n",
    "#tokenized data is in tokenizedData.pkl, has tokenizer obj in tokenizer.json\n",
    "\n",
    "#Load the tokenizer\n",
    "with open(os.path.join(pathToTokenizedData, \"tokenizer.json\"), \"r\") as f:\n",
    "    tokenizer = tokenizer_from_json(f.read())\n",
    "\n",
    "\n",
    "\n",
    "#Load the tokenized data\n",
    "with open(pathToTokenizedData + \"tokenizedData.pkl\", \"rb\") as f:\n",
    "    tokenizedData = pickle.load(f)\n",
    "\n",
    "#Load the grade data\n",
    "#gradeData is a dict with keys as the file names and values as the grades\n",
    "with open(pathToGradeData + \"grades.pkl\", \"rb\") as f:\n",
    "    gradeData = pickle.load(f)\n",
    "\n",
    "print (gradeData)\n",
    "\n",
    "\n",
    "\n",
    "\n",
    "\n",
    "\n",
    "\n"
   ]
  },
  {
   "cell_type": "code",
   "execution_count": null,
   "metadata": {},
   "outputs": [],
   "source": [
    "#File syncer\n",
    "#Combine the dataframes\n",
    "#Both dataframes have a column that contains file paths, so we can use that to join them\n",
    "\n",
    "\n",
    "\n"
   ]
  },
  {
   "cell_type": "code",
   "execution_count": 23,
   "metadata": {},
   "outputs": [
    {
     "name": "stdout",
     "output_type": "stream",
     "text": [
      "0\n"
     ]
    }
   ],
   "source": [
    "#combine the dataframes using the file path\n",
    "\n",
    "#Join the dataframes\n",
    "combinedDF = pd.merge(tokenizedData, gradeData, on = \"Path\")\n",
    "\n",
    "#create a dataframe of grades that did not match with anything\n",
    "#mismatchDF = gradeData[~gradeData.Path.isin(combinedDF.Path)]\n",
    "#print (len(mismatchDF))\n",
    "#print (mismatchDF)\n",
    "\n",
    "#create a dataframe of files that did not match with anything\n",
    "#mismatchDF2 = tokenizedData[~tokenizedData.Path.isin(combinedDF.Path)]\n",
    "#print (len(mismatchDF2))\n",
    "\n"
   ]
  }
 ],
 "metadata": {
  "kernelspec": {
   "display_name": "Python 3",
   "language": "python",
   "name": "python3"
  },
  "language_info": {
   "codemirror_mode": {
    "name": "ipython",
    "version": 3
   },
   "file_extension": ".py",
   "mimetype": "text/x-python",
   "name": "python",
   "nbconvert_exporter": "python",
   "pygments_lexer": "ipython3",
   "version": "3.11.5"
  },
  "orig_nbformat": 4
 },
 "nbformat": 4,
 "nbformat_minor": 2
}
