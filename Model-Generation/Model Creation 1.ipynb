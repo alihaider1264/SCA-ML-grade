{
  "cells": [
    {
      "cell_type": "code",
      "execution_count": 2,
      "metadata": {
        "id": "BFlZYHLP1AyZ"
      },
      "outputs": [],
      "source": [
        "import os\n",
        "def homePath(path):\n",
        "    if path[0] == \"~\":\n",
        "        return os.path.join(os.path.expanduser(\"~\"), path.strip(\"~/\"))\n",
        "    else:\n",
        "        return path\n",
        "\n",
        "#Model Creation 1\n",
        "#Figure out how to do versioning effectively\n",
        "individualInput = False\n",
        "combinedInputPath = \"/mnt/SPDrive/SPGenerations/\"\n",
        "pathToTokenizedData = \"C:\\\\Users\\\\mcall\\\\OneDrive\\\\Desktop\\\\DummyOutput\\\\Tokenizer\\\\\"\n",
        "pathToGradeData = \"C:\\\\Users\\\\mcall\\\\OneDrive\\\\Desktop\\\\DummyOutput\\\\Grader\\\\\"\n",
        "GradesTokensName = \"\"\n",
        "\n",
        "\n",
        "if not individualInput:\n",
        "    pathToTokenizedData = os.path.join(combinedInputPath, \"Tokens/\")\n",
        "    pathToGradeData = os.path.join(combinedInputPath, \"Grades/\")\n",
        "\n",
        "if GradesTokensName == \"\":\n",
        "    #Use newest folder for each\n",
        "\n",
        "    #Get the newest folder for the tokens\n",
        "    tokensFolders = os.listdir(pathToTokenizedData)\n",
        "    tokensFolders.sort()\n",
        "    pathToTokenizedData = os.path.join(pathToTokenizedData , tokensFolders[-1])\n",
        "\n",
        "    #Get the newest folder for the grades\n",
        "    gradesFolders = os.listdir(pathToGradeData)\n",
        "    gradesFolders.sort()\n",
        "    pathToGradeData = os.path.join(pathToGradeData,  gradesFolders[-1])\n",
        "else:\n",
        "    pathToTokenizedData = os.path.join(pathToTokenizedData, GradesTokensName)\n",
        "    pathToGradeData = os.path.join(pathToGradeData, GradesTokensName)\n",
        "\n",
        "\n",
        "\n",
        "\n",
        "\n",
        "modelOutputPath = \"/mnt/SPDrive/SPGenerations/Models/\"\n",
        "\n"
      ]
    },
    {
      "cell_type": "code",
      "execution_count": 3,
      "metadata": {
        "id": "nLHjdZFH05pS",
        "outputId": "1016b38b-0f18-42e3-8e28-1e03019b46a6"
      },
      "outputs": [
        {
          "name": "stderr",
          "output_type": "stream",
          "text": [
            "2023-11-22 06:45:48.228967: I tensorflow/core/util/port.cc:111] oneDNN custom operations are on. You may see slightly different numerical results due to floating-point round-off errors from different computation orders. To turn them off, set the environment variable `TF_ENABLE_ONEDNN_OPTS=0`.\n",
            "2023-11-22 06:45:48.264477: E tensorflow/compiler/xla/stream_executor/cuda/cuda_dnn.cc:9342] Unable to register cuDNN factory: Attempting to register factory for plugin cuDNN when one has already been registered\n",
            "2023-11-22 06:45:48.264501: E tensorflow/compiler/xla/stream_executor/cuda/cuda_fft.cc:609] Unable to register cuFFT factory: Attempting to register factory for plugin cuFFT when one has already been registered\n",
            "2023-11-22 06:45:48.264533: E tensorflow/compiler/xla/stream_executor/cuda/cuda_blas.cc:1518] Unable to register cuBLAS factory: Attempting to register factory for plugin cuBLAS when one has already been registered\n",
            "2023-11-22 06:45:48.271876: I tensorflow/core/platform/cpu_feature_guard.cc:182] This TensorFlow binary is optimized to use available CPU instructions in performance-critical operations.\n",
            "To enable the following instructions: AVX2 AVX512F AVX512_VNNI FMA, in other operations, rebuild TensorFlow with the appropriate compiler flags.\n"
          ]
        },
        {
          "name": "stdout",
          "output_type": "stream",
          "text": [
            "                                                tokenCode  \\\n",
            "0       [19, 10, 19, 45, 434, 29, 620, 6, 748, 6, 649,...   \n",
            "1       [19, 10, 19, 45, 434, 29, 620, 6, 748, 6, 649,...   \n",
            "2       [19, 10, 19, 45, 434, 29, 620, 6, 748, 6, 649,...   \n",
            "3       [19, 10, 19, 45, 434, 29, 620, 6, 748, 6, 649,...   \n",
            "4       [19, 10, 19, 45, 434, 29, 620, 6, 748, 6, 649,...   \n",
            "...                                                   ...   \n",
            "181281  [45, 287, 29, 287, 29, 1, 29, 276, 45, 1, 29, ...   \n",
            "181282  [29, 687, 45, 287, 29, 287, 29, 1, 29, 276, 45...   \n",
            "181283  [45, 287, 29, 287, 29, 1, 29, 276, 45, 1, 29, ...   \n",
            "181284  [45, 287, 29, 287, 29, 1, 29, 276, 45, 1, 29, ...   \n",
            "181285  [29, 687, 45, 287, 29, 287, 29, 1, 29, 276, 45...   \n",
            "\n",
            "                                                     Path  fileGrade  \\\n",
            "0       3722273/examples/basics/linear_regression.py/1.py  59.000000   \n",
            "1       3722273/examples/basics/linear_regression.py/3.py  67.000000   \n",
            "2       3722273/examples/basics/linear_regression.py/2.py  66.000000   \n",
            "3       3722273/examples/basics/linear_regression.py/0.py  55.000000   \n",
            "4       3722273/examples/basics/linear_regression.py/4.py  71.000000   \n",
            "...                                                   ...        ...   \n",
            "181281                      3912822/article_maker.py/3.py  60.000000   \n",
            "181282                      3912822/article_maker.py/9.py  70.000000   \n",
            "181283                      3912822/article_maker.py/2.py  58.333333   \n",
            "181284                      3912822/article_maker.py/4.py  61.666667   \n",
            "181285                      3912822/article_maker.py/7.py  66.666667   \n",
            "\n",
            "                                           tokenGroupCode  \n",
            "0       [8, 1, 8, 4, 15, 9, 15, 3, 15, 3, 15, 9, 15, 2...  \n",
            "1       [8, 1, 8, 4, 15, 9, 15, 3, 15, 3, 15, 9, 15, 2...  \n",
            "2       [8, 1, 8, 4, 15, 9, 15, 3, 15, 3, 15, 9, 15, 2...  \n",
            "3       [8, 1, 8, 4, 15, 9, 15, 3, 15, 3, 15, 9, 15, 2...  \n",
            "4       [8, 1, 8, 4, 15, 9, 15, 3, 15, 3, 15, 9, 15, 2...  \n",
            "...                                                   ...  \n",
            "181281  [4, 10, 9, 10, 9, 15, 9, 10, 4, 15, 9, 15, 3, ...  \n",
            "181282  [9, 10, 4, 10, 9, 10, 9, 15, 9, 10, 4, 15, 9, ...  \n",
            "181283  [4, 10, 9, 10, 9, 15, 9, 10, 4, 15, 9, 15, 3, ...  \n",
            "181284  [4, 10, 9, 10, 9, 15, 9, 10, 4, 15, 9, 15, 3, ...  \n",
            "181285  [9, 10, 4, 10, 9, 10, 9, 15, 9, 10, 4, 15, 9, ...  \n",
            "\n",
            "[181286 rows x 4 columns]\n"
          ]
        }
      ],
      "source": [
        "import pandas as pd\n",
        "import numpy as np\n",
        "import pickle\n",
        "from keras.preprocessing.text import Tokenizer\n",
        "from keras.preprocessing.text import tokenizer_from_json\n",
        "from keras.preprocessing.sequence import pad_sequences\n",
        "from keras.models import Sequential\n",
        "from keras.layers import Dense, Embedding, LSTM, GRU, Dropout, Bidirectional, Input, Flatten, Concatenate\n",
        "from keras.callbacks import EarlyStopping\n",
        "from keras.models import load_model\n",
        "from keras.models import model_from_json\n",
        "from keras.models import Model\n",
        "from matplotlib import pyplot as plt\n",
        "import tensorflow as tf\n",
        "import keras\n",
        "import pickle\n",
        "from keras.preprocessing.text import Tokenizer\n",
        "from keras.preprocessing.text import tokenizer_from_json\n",
        "from keras.preprocessing.sequence import pad_sequences\n",
        "from keras.models import Sequential\n",
        "import keras.layers as layers\n",
        "from keras.callbacks import EarlyStopping\n",
        "from keras.models import load_model\n",
        "from keras.models import model_from_json\n",
        "from keras.models import Model\n",
        "\n",
        "\n",
        "\n",
        "\n",
        "from keras.utils import pad_sequences\n",
        "import os\n",
        "\n",
        "\n",
        "\n",
        "#Load the data\n",
        "#tokenized data is in tokenizedData.pkl, has tokenizer obj in tokenizer.json\n",
        "\n",
        "#Load the tokenizer\n",
        "with open(pathToTokenizedData+ \"/tokenizer.json\", \"r\") as f:\n",
        "    tokenizer = tokenizer_from_json(f.read())\n",
        "\n",
        "\n",
        "\n",
        "#Load the tokenized data\n",
        "with open(pathToTokenizedData + \"/tokenizedData.pkl\", \"rb\") as f:\n",
        "    tokenizedData = pickle.load(f)\n",
        "\n",
        "#Load the grade data\n",
        "#gradeData is a dict with keys as the file names and values as the grades\n",
        "with open(pathToGradeData + \"/grades.pkl\", \"rb\") as f:\n",
        "    gradeData = pickle.load(f)\n",
        "\n",
        "#load the group data\n",
        "with open(pathToTokenizedData + \"/tokenGroupDataframe.pkl\", \"rb\") as f:\n",
        "    tokenizedGroupData = pickle.load(f)\n",
        "\n",
        "combinedDF = pd.merge(tokenizedData, gradeData, on = \"Path\")\n",
        "combinedDF = pd.merge(combinedDF, tokenizedGroupData, on = \"Path\")\n",
        "print (combinedDF)\n",
        "\n",
        "\n",
        "\n",
        "\n",
        "\n"
      ]
    },
    {
      "cell_type": "code",
      "execution_count": null,
      "metadata": {},
      "outputs": [
        {
          "data": {
            "image/png": "[encoded data removed]",
            "text/plain": [
              "<Figure size 640x480 with 1 Axes>"
            ]
          },
          "metadata": {},
          "output_type": "display_data"
        },
        {
          "ename": "KeyboardInterrupt",
          "evalue": "",
          "output_type": "error",
          "traceback": [
            "\u001b[0;31m---------------------------------------------------------------------------\u001b[0m",
            "\u001b[0;31mKeyboardInterrupt\u001b[0m                         Traceback (most recent call last)",
            "\u001b[1;32m/home/mcall/SPGit/Model-Generation/Model Creation 1.ipynb Cell 3\u001b[0m line \u001b[0;36m1\n\u001b[1;32m     <a href='vscode-notebook-cell://tunnel%2Berica/home/mcall/SPGit/Model-Generation/Model%20Creation%201.ipynb#X41sdnNjb2RlLXJlbW90ZQ%3D%3D?line=11'>12</a>\u001b[0m countHigh \u001b[39m=\u001b[39m []\n\u001b[1;32m     <a href='vscode-notebook-cell://tunnel%2Berica/home/mcall/SPGit/Model-Generation/Model%20Creation%201.ipynb#X41sdnNjb2RlLXJlbW90ZQ%3D%3D?line=12'>13</a>\u001b[0m \u001b[39mfor\u001b[39;00m i \u001b[39min\u001b[39;00m \u001b[39mrange\u001b[39m(\u001b[39m1\u001b[39m, combinedDF[\u001b[39m\"\u001b[39m\u001b[39mtokenCode\u001b[39m\u001b[39m\"\u001b[39m]\u001b[39m.\u001b[39mapply(\u001b[39mlambda\u001b[39;00m x: \u001b[39mlen\u001b[39m(x))\u001b[39m.\u001b[39mmax() \u001b[39m+\u001b[39m \u001b[39m1\u001b[39m):\n\u001b[0;32m---> <a href='vscode-notebook-cell://tunnel%2Berica/home/mcall/SPGit/Model-Generation/Model%20Creation%201.ipynb#X41sdnNjb2RlLXJlbW90ZQ%3D%3D?line=13'>14</a>\u001b[0m     count\u001b[39m.\u001b[39mappend(combinedDF[combinedDF[\u001b[39m\"\u001b[39;49m\u001b[39mtokenCode\u001b[39;49m\u001b[39m\"\u001b[39;49m]\u001b[39m.\u001b[39;49mapply(\u001b[39mlambda\u001b[39;49;00m x: \u001b[39mlen\u001b[39;49m(x)) \u001b[39m==\u001b[39m i][\u001b[39m\"\u001b[39m\u001b[39mfileGrade\u001b[39m\u001b[39m\"\u001b[39m]\u001b[39m.\u001b[39mmean())\n\u001b[1;32m     <a href='vscode-notebook-cell://tunnel%2Berica/home/mcall/SPGit/Model-Generation/Model%20Creation%201.ipynb#X41sdnNjb2RlLXJlbW90ZQ%3D%3D?line=14'>15</a>\u001b[0m     countLow\u001b[39m.\u001b[39mappend(combinedDF[combinedDF[\u001b[39m\"\u001b[39m\u001b[39mtokenCode\u001b[39m\u001b[39m\"\u001b[39m]\u001b[39m.\u001b[39mapply(\u001b[39mlambda\u001b[39;00m x: \u001b[39mlen\u001b[39m(x)) \u001b[39m==\u001b[39m i][\u001b[39m\"\u001b[39m\u001b[39mfileGrade\u001b[39m\u001b[39m\"\u001b[39m]\u001b[39m.\u001b[39mquantile(\u001b[39m.25\u001b[39m))\n\u001b[1;32m     <a href='vscode-notebook-cell://tunnel%2Berica/home/mcall/SPGit/Model-Generation/Model%20Creation%201.ipynb#X41sdnNjb2RlLXJlbW90ZQ%3D%3D?line=15'>16</a>\u001b[0m     countHigh\u001b[39m.\u001b[39mappend(combinedDF[combinedDF[\u001b[39m\"\u001b[39m\u001b[39mtokenCode\u001b[39m\u001b[39m\"\u001b[39m]\u001b[39m.\u001b[39mapply(\u001b[39mlambda\u001b[39;00m x: \u001b[39mlen\u001b[39m(x)) \u001b[39m==\u001b[39m i][\u001b[39m\"\u001b[39m\u001b[39mfileGrade\u001b[39m\u001b[39m\"\u001b[39m]\u001b[39m.\u001b[39mquantile(\u001b[39m.75\u001b[39m))\n",
            "File \u001b[0;32m~/.local/lib/python3.10/site-packages/pandas/core/series.py:4760\u001b[0m, in \u001b[0;36mSeries.apply\u001b[0;34m(self, func, convert_dtype, args, by_row, **kwargs)\u001b[0m\n\u001b[1;32m   4625\u001b[0m \u001b[39mdef\u001b[39;00m \u001b[39mapply\u001b[39m(\n\u001b[1;32m   4626\u001b[0m     \u001b[39mself\u001b[39m,\n\u001b[1;32m   4627\u001b[0m     func: AggFuncType,\n\u001b[0;32m   (...)\u001b[0m\n\u001b[1;32m   4632\u001b[0m     \u001b[39m*\u001b[39m\u001b[39m*\u001b[39mkwargs,\n\u001b[1;32m   4633\u001b[0m ) \u001b[39m-\u001b[39m\u001b[39m>\u001b[39m DataFrame \u001b[39m|\u001b[39m Series:\n\u001b[1;32m   4634\u001b[0m \u001b[39m    \u001b[39m\u001b[39m\"\"\"\u001b[39;00m\n\u001b[1;32m   4635\u001b[0m \u001b[39m    Invoke function on values of Series.\u001b[39;00m\n\u001b[1;32m   4636\u001b[0m \n\u001b[0;32m   (...)\u001b[0m\n\u001b[1;32m   4751\u001b[0m \u001b[39m    dtype: float64\u001b[39;00m\n\u001b[1;32m   4752\u001b[0m \u001b[39m    \"\"\"\u001b[39;00m\n\u001b[1;32m   4753\u001b[0m     \u001b[39mreturn\u001b[39;00m SeriesApply(\n\u001b[1;32m   4754\u001b[0m         \u001b[39mself\u001b[39;49m,\n\u001b[1;32m   4755\u001b[0m         func,\n\u001b[1;32m   4756\u001b[0m         convert_dtype\u001b[39m=\u001b[39;49mconvert_dtype,\n\u001b[1;32m   4757\u001b[0m         by_row\u001b[39m=\u001b[39;49mby_row,\n\u001b[1;32m   4758\u001b[0m         args\u001b[39m=\u001b[39;49margs,\n\u001b[1;32m   4759\u001b[0m         kwargs\u001b[39m=\u001b[39;49mkwargs,\n\u001b[0;32m-> 4760\u001b[0m     )\u001b[39m.\u001b[39;49mapply()\n",
            "File \u001b[0;32m~/.local/lib/python3.10/site-packages/pandas/core/apply.py:1207\u001b[0m, in \u001b[0;36mSeriesApply.apply\u001b[0;34m(self)\u001b[0m\n\u001b[1;32m   1204\u001b[0m     \u001b[39mreturn\u001b[39;00m \u001b[39mself\u001b[39m\u001b[39m.\u001b[39mapply_compat()\n\u001b[1;32m   1206\u001b[0m \u001b[39m# self.func is Callable\u001b[39;00m\n\u001b[0;32m-> 1207\u001b[0m \u001b[39mreturn\u001b[39;00m \u001b[39mself\u001b[39;49m\u001b[39m.\u001b[39;49mapply_standard()\n",
            "File \u001b[0;32m~/.local/lib/python3.10/site-packages/pandas/core/apply.py:1287\u001b[0m, in \u001b[0;36mSeriesApply.apply_standard\u001b[0;34m(self)\u001b[0m\n\u001b[1;32m   1281\u001b[0m \u001b[39m# row-wise access\u001b[39;00m\n\u001b[1;32m   1282\u001b[0m \u001b[39m# apply doesn't have a `na_action` keyword and for backward compat reasons\u001b[39;00m\n\u001b[1;32m   1283\u001b[0m \u001b[39m# we need to give `na_action=\"ignore\"` for categorical data.\u001b[39;00m\n\u001b[1;32m   1284\u001b[0m \u001b[39m# TODO: remove the `na_action=\"ignore\"` when that default has been changed in\u001b[39;00m\n\u001b[1;32m   1285\u001b[0m \u001b[39m#  Categorical (GH51645).\u001b[39;00m\n\u001b[1;32m   1286\u001b[0m action \u001b[39m=\u001b[39m \u001b[39m\"\u001b[39m\u001b[39mignore\u001b[39m\u001b[39m\"\u001b[39m \u001b[39mif\u001b[39;00m \u001b[39misinstance\u001b[39m(obj\u001b[39m.\u001b[39mdtype, CategoricalDtype) \u001b[39melse\u001b[39;00m \u001b[39mNone\u001b[39;00m\n\u001b[0;32m-> 1287\u001b[0m mapped \u001b[39m=\u001b[39m obj\u001b[39m.\u001b[39;49m_map_values(\n\u001b[1;32m   1288\u001b[0m     mapper\u001b[39m=\u001b[39;49mcurried, na_action\u001b[39m=\u001b[39;49maction, convert\u001b[39m=\u001b[39;49m\u001b[39mself\u001b[39;49m\u001b[39m.\u001b[39;49mconvert_dtype\n\u001b[1;32m   1289\u001b[0m )\n\u001b[1;32m   1291\u001b[0m \u001b[39mif\u001b[39;00m \u001b[39mlen\u001b[39m(mapped) \u001b[39mand\u001b[39;00m \u001b[39misinstance\u001b[39m(mapped[\u001b[39m0\u001b[39m], ABCSeries):\n\u001b[1;32m   1292\u001b[0m     \u001b[39m# GH#43986 Need to do list(mapped) in order to get treated as nested\u001b[39;00m\n\u001b[1;32m   1293\u001b[0m     \u001b[39m#  See also GH#25959 regarding EA support\u001b[39;00m\n\u001b[1;32m   1294\u001b[0m     \u001b[39mreturn\u001b[39;00m obj\u001b[39m.\u001b[39m_constructor_expanddim(\u001b[39mlist\u001b[39m(mapped), index\u001b[39m=\u001b[39mobj\u001b[39m.\u001b[39mindex)\n",
            "File \u001b[0;32m~/.local/lib/python3.10/site-packages/pandas/core/base.py:921\u001b[0m, in \u001b[0;36mIndexOpsMixin._map_values\u001b[0;34m(self, mapper, na_action, convert)\u001b[0m\n\u001b[1;32m    918\u001b[0m \u001b[39mif\u001b[39;00m \u001b[39misinstance\u001b[39m(arr, ExtensionArray):\n\u001b[1;32m    919\u001b[0m     \u001b[39mreturn\u001b[39;00m arr\u001b[39m.\u001b[39mmap(mapper, na_action\u001b[39m=\u001b[39mna_action)\n\u001b[0;32m--> 921\u001b[0m \u001b[39mreturn\u001b[39;00m algorithms\u001b[39m.\u001b[39;49mmap_array(arr, mapper, na_action\u001b[39m=\u001b[39;49mna_action, convert\u001b[39m=\u001b[39;49mconvert)\n",
            "File \u001b[0;32m~/.local/lib/python3.10/site-packages/pandas/core/algorithms.py:1814\u001b[0m, in \u001b[0;36mmap_array\u001b[0;34m(arr, mapper, na_action, convert)\u001b[0m\n\u001b[1;32m   1812\u001b[0m values \u001b[39m=\u001b[39m arr\u001b[39m.\u001b[39mastype(\u001b[39mobject\u001b[39m, copy\u001b[39m=\u001b[39m\u001b[39mFalse\u001b[39;00m)\n\u001b[1;32m   1813\u001b[0m \u001b[39mif\u001b[39;00m na_action \u001b[39mis\u001b[39;00m \u001b[39mNone\u001b[39;00m:\n\u001b[0;32m-> 1814\u001b[0m     \u001b[39mreturn\u001b[39;00m lib\u001b[39m.\u001b[39;49mmap_infer(values, mapper, convert\u001b[39m=\u001b[39;49mconvert)\n\u001b[1;32m   1815\u001b[0m \u001b[39melse\u001b[39;00m:\n\u001b[1;32m   1816\u001b[0m     \u001b[39mreturn\u001b[39;00m lib\u001b[39m.\u001b[39mmap_infer_mask(\n\u001b[1;32m   1817\u001b[0m         values, mapper, mask\u001b[39m=\u001b[39misna(values)\u001b[39m.\u001b[39mview(np\u001b[39m.\u001b[39muint8), convert\u001b[39m=\u001b[39mconvert\n\u001b[1;32m   1818\u001b[0m     )\n",
            "\u001b[0;31mKeyboardInterrupt\u001b[0m: "
          ]
        }
      ],
      "source": [
        "#chart of token length vs grade\n",
        "tokenLengths = combinedDF[\"tokenCode\"].apply(lambda x: len(x))\n",
        "plt.scatter(tokenLengths, combinedDF[\"fileGrade\"])\n",
        "plt.xlabel(\"Token Length\")\n",
        "plt.ylabel(\"Grade\")\n",
        "plt.show()\n",
        "\n",
        "\n",
        "#graph the density of the grades vs length\n",
        "count = []\n",
        "countLow = []\n",
        "countHigh = []\n",
        "for i in range(1, combinedDF[\"tokenCode\"].apply(lambda x: len(x)).max() + 1):\n",
        "    count.append(combinedDF[combinedDF[\"tokenCode\"].apply(lambda x: len(x)) == i][\"fileGrade\"].mean())\n",
        "    countLow.append(combinedDF[combinedDF[\"tokenCode\"].apply(lambda x: len(x)) == i][\"fileGrade\"].quantile(.25))\n",
        "    countHigh.append(combinedDF[combinedDF[\"tokenCode\"].apply(lambda x: len(x)) == i][\"fileGrade\"].quantile(.75))\n",
        "\n",
        "                 \n",
        "\n",
        "plt.scatter(range(1, combinedDF[\"tokenCode\"].apply(lambda x: len(x)).max() + 1), count)\n",
        "#draw a line of best fit\n",
        "z = np.polyfit(range(1, combinedDF[\"tokenCode\"].apply(lambda x: len(x)).max() + 1), count, 1)\n",
        "p = np.poly1d(z)\n",
        "plt.xlabel(\"Token Length\")\n",
        "plt.ylabel(\"Grade\")\n",
        "plt.show()\n",
        "\n",
        "\n",
        "\n",
        "\n",
        "\n"
      ]
    },
    {
      "cell_type": "code",
      "execution_count": 4,
      "metadata": {
        "id": "jnja4-p705pU",
        "outputId": "b79f4a7d-57af-4836-e052-f2089eaec5b5"
      },
      "outputs": [
        {
          "name": "stdout",
          "output_type": "stream",
          "text": [
            "                                                tokenCode  \\\n",
            "0       [19, 10, 19, 45, 434, 29, 620, 6, 748, 6, 649,...   \n",
            "1       [19, 10, 19, 45, 434, 29, 620, 6, 748, 6, 649,...   \n",
            "2       [19, 10, 19, 45, 434, 29, 620, 6, 748, 6, 649,...   \n",
            "3       [19, 10, 19, 45, 434, 29, 620, 6, 748, 6, 649,...   \n",
            "4       [19, 10, 19, 45, 434, 29, 620, 6, 748, 6, 649,...   \n",
            "...                                                   ...   \n",
            "181271  [45, 434, 29, 1, 29, 85, 4, 22, 9, 3, 10, 3, 4...   \n",
            "181275  [45, 434, 29, 1, 4, 22, 9, 3, 10, 3, 4, 25, 9,...   \n",
            "181277  [45, 434, 29, 1, 4, 22, 9, 3, 10, 3, 4, 25, 9,...   \n",
            "181278  [45, 434, 29, 1, 29, 85, 4, 22, 9, 3, 10, 3, 4...   \n",
            "181279  [45, 434, 29, 1, 29, 85, 4, 22, 9, 3, 10, 3, 4...   \n",
            "\n",
            "                                                     Path  fileGrade  \\\n",
            "0       3722273/examples/basics/linear_regression.py/1.py  59.000000   \n",
            "1       3722273/examples/basics/linear_regression.py/3.py  67.000000   \n",
            "2       3722273/examples/basics/linear_regression.py/2.py  66.000000   \n",
            "3       3722273/examples/basics/linear_regression.py/0.py  55.000000   \n",
            "4       3722273/examples/basics/linear_regression.py/4.py  71.000000   \n",
            "...                                                   ...        ...   \n",
            "181271                       3912822/pelicanconf.py/24.py  64.056604   \n",
            "181275                        3912822/pelicanconf.py/4.py  56.509434   \n",
            "181277                        3912822/pelicanconf.py/7.py  57.641509   \n",
            "181278                       3912822/pelicanconf.py/18.py  61.792453   \n",
            "181279                       3912822/pelicanconf.py/25.py  64.433962   \n",
            "\n",
            "                                           tokenGroupCode  \n",
            "0       [8, 1, 8, 4, 15, 9, 15, 3, 15, 3, 15, 9, 15, 2...  \n",
            "1       [8, 1, 8, 4, 15, 9, 15, 3, 15, 3, 15, 9, 15, 2...  \n",
            "2       [8, 1, 8, 4, 15, 9, 15, 3, 15, 3, 15, 9, 15, 2...  \n",
            "3       [8, 1, 8, 4, 15, 9, 15, 3, 15, 3, 15, 9, 15, 2...  \n",
            "4       [8, 1, 8, 4, 15, 9, 15, 3, 15, 3, 15, 9, 15, 2...  \n",
            "...                                                   ...  \n",
            "181271  [4, 15, 9, 15, 9, 10, 2, 0, 3, 8, 1, 8, 2, 0, ...  \n",
            "181275  [4, 15, 9, 15, 2, 0, 3, 8, 1, 8, 2, 0, 3, 8, 1...  \n",
            "181277  [4, 15, 9, 15, 2, 0, 3, 8, 1, 8, 2, 0, 3, 8, 1...  \n",
            "181278  [4, 15, 9, 15, 9, 10, 2, 0, 3, 8, 1, 8, 2, 0, ...  \n",
            "181279  [4, 15, 9, 15, 9, 10, 2, 0, 3, 8, 1, 8, 2, 0, ...  \n",
            "\n",
            "[32379 rows x 4 columns]\n"
          ]
        }
      ],
      "source": [
        "#Padding\n",
        "\n",
        "maxLen = 500\n",
        "minLen = 100\n",
        "#get rid of the ones that are too long\n",
        "combinedDF = combinedDF[combinedDF[\"tokenCode\"].apply(lambda x: len(x)) <= maxLen]\n",
        "combinedDF = combinedDF[combinedDF[\"tokenGroupCode\"].apply(lambda x: len(x)) <= maxLen]\n",
        " \n",
        "\n",
        "#get rid of the ones that are too short\n",
        "combinedDF = combinedDF[combinedDF[\"tokenCode\"].apply(lambda x: len(x)) > minLen]\n",
        "combinedDF = combinedDF[combinedDF[\"tokenGroupCode\"].apply(lambda x: len(x)) > minLen]\n",
        "\n",
        "#Pad the sequences\n",
        "combinedDF[\"tokenCode\"] = pad_sequences(combinedDF[\"tokenCode\"], maxlen = maxLen, padding = \"post\", truncating = \"post\").tolist()\n",
        "combinedDF[\"tokenGroupCode\"] = pad_sequences(combinedDF[\"tokenGroupCode\"], maxlen = maxLen, padding = \"post\", truncating = \"post\").tolist()\n",
        "\n",
        "print (combinedDF)\n",
        "\n",
        "#only use 5% of the dat\n",
        "#combinedDF = combinedDF.sample(frac = 0.001, random_state = 1)\n",
        "\n",
        "#48590 \n",
        "\n"
      ]
    },
    {
      "cell_type": "code",
      "execution_count": 6,
      "metadata": {
        "id": "2-_lF4pW05pU",
        "outputId": "0568f4dd-be12-4884-c67e-9e8592184df6"
      },
      "outputs": [
        {
          "data": {
            "image/png": "[encoded data removed]",
            "text/plain": [
              "<Figure size 640x480 with 1 Axes>"
            ]
          },
          "metadata": {},
          "output_type": "display_data"
        }
      ],
      "source": [
        "#create a chart of the grades\n",
        "graph = plt.hist(combinedDF['fileGrade'], bins=20, range=(0, 100))\n",
        "plt.xticks([0, 5, 10, 15, 20, 25, 30, 35, 40, 45, 50, 55, 60, 65, 70, 75, 80, 85, 90, 95, 100])\n",
        "plt.xlabel(\"Grade Range\")\n",
        "plt.ylabel(\"Number of Commits\")\n",
        "plt.show()\n",
        "\n"
      ]
    },
    {
      "cell_type": "code",
      "execution_count": null,
      "metadata": {
        "id": "M55w1Ku405pU",
        "outputId": "937ea050-b42a-444b-bb43-11c6f48c7f33"
      },
      "outputs": [],
      "source": [
        "#test to make sure gpu is detected and save as bool\n",
        "gpu_detected = tf.test.is_gpu_available()\n"
      ]
    },
    {
      "cell_type": "code",
      "execution_count": 14,
      "metadata": {},
      "outputs": [
        {
          "data": {
            "image/png": "[encoded data removed]",
            "text/plain": [
              "<Figure size 640x480 with 1 Axes>"
            ]
          },
          "metadata": {},
          "output_type": "display_data"
        }
      ],
      "source": [
        "\n"
      ]
    },
    {
      "cell_type": "code",
      "execution_count": 5,
      "metadata": {
        "id": "Nu6hyuey05pU",
        "outputId": "2d9cf582-6a4a-46ad-e21c-e84a8f2eecce"
      },
      "outputs": [
        {
          "name": "stderr",
          "output_type": "stream",
          "text": [
            "2023-11-22 06:46:19.178555: I tensorflow/core/common_runtime/gpu/gpu_device.cc:1886] Created device /job:localhost/replica:0/task:0/device:GPU:0 with 13173 MB memory:  -> device: 0, name: NVIDIA A2, pci bus id: 0000:11:00.0, compute capability: 8.6\n",
            "2023-11-22 06:46:19.179419: I tensorflow/core/common_runtime/gpu/gpu_device.cc:1886] Created device /job:localhost/replica:0/task:0/device:GPU:1 with 13173 MB memory:  -> device: 1, name: NVIDIA A2, pci bus id: 0000:b1:00.0, compute capability: 8.6\n",
            "2023-11-22 06:46:30.969328: I tensorflow/tsl/platform/default/subprocess.cc:304] Start cannot spawn child process: No such file or directory\n"
          ]
        }
      ],
      "source": [
        "#if (not gpu_detected):\n",
        "#    print(\"GPU not detected, using CPU\")\n",
        "\n",
        "#Create the model\n",
        "#Input\n",
        "inputTokens = layers.Input(shape=(maxLen,), dtype='int32')\n",
        "inputGroupTokens = layers.Input(shape=(maxLen,), dtype='int32')\n",
        "\n",
        "\n",
        "# Embedding for individual tokens\n",
        "embeddingTokens = Embedding(tokenizer.num_words, 1024, input_length=maxLen)(inputTokens)\n",
        "flattened_tokens = Flatten()(embeddingTokens)\n",
        "\n",
        "# Embedding for group identifiers\n",
        "embeddingGroupTokens = Embedding(15, 64, input_length=maxLen)(inputGroupTokens)\n",
        "flattened_group_tokens = Flatten()(embeddingGroupTokens)\n",
        "\n",
        "# Concatenate the flattened tokens and flattened group identifiers\n",
        "concatenated = Concatenate()([flattened_tokens, flattened_group_tokens])\n",
        "\n",
        "reshaped_data = layers.Reshape((maxLen, -1))(concatenated)\n",
        "\n",
        "#LSTM\n",
        "lstm = layers.Bidirectional(LSTM(2048, return_sequences=True))(reshaped_data)\n",
        "\n",
        "#Dropout\n",
        "dropout = layers.Dropout(0.5)(lstm)\n",
        "\n",
        "\n",
        "#LSTM\n",
        "lstm3 = layers.Bidirectional(LSTM(1024))(dropout)\n",
        "\n",
        "#Dropout\n",
        "dropout3 = layers.Dropout(0.5)(lstm3)\n",
        "\n",
        "#LSTM\n",
        "\n",
        "\n",
        "#Flatten\n",
        "flatten = layers.Flatten()(dropout3)\n",
        "\n",
        "#Dense\n",
        "dense = Dense(2048, activation='relu')(flatten)\n",
        "\n",
        "#Output\n",
        "output = Dense(1, activation='linear')(dense)\n",
        "\n",
        "model = Model(inputs=[inputTokens, inputGroupTokens], outputs=output)\n",
        "\n",
        "\n",
        "\n",
        "print(model.summary())\n",
        "\n",
        "model.compile(loss='mean_squared_logarithmic_error', optimizer='Adam', metrics=['mse', 'mae', 'mape', 'accuracy'])\n",
        "\n",
        "\n",
        "\n",
        "\n",
        "\n",
        "# convert inputs to numpy arrays\n",
        "token_code = np.array(combinedDF[\"tokenCode\"].tolist())\n",
        "token_group_code = np.array(combinedDF[\"tokenGroupCode\"].tolist())\n",
        "file_grade = np.array(combinedDF[\"fileGrade\"].tolist())\n",
        "\n",
        "hist = model.fit([token_code, token_group_code], file_grade, epochs=120, batch_size=32, verbose=1)\n",
        "\n",
        "\n",
        "#Save the model in timestamp folder and with tokenizer\n",
        "timestamp = str(pd.Timestamp.now()).replace(\" \", \"_\").replace(\":\", \"-\").replace(\".\", \"-\")\n",
        "if not os.path.exists(modelOutputPath):\n",
        "    os.mkdir(modelOutputPath)\n",
        "if not os.path.exists(modelOutputPath + \"/\" + timestamp):\n",
        "    os.mkdir(modelOutputPath + \"/\" + timestamp)\n",
        "model.save(modelOutputPath + \"/\" + timestamp + \"/model.h5\")\n",
        "with open(modelOutputPath + \"/\" + timestamp + \"/tokenizer.json\", \"w\") as f:\n",
        "    f.write(tokenizer.to_json())\n",
        "#make an archaive of the SCA-Tokenizer Folder\n",
        "#get CWD\n",
        "cwd = os.getcwd()\n",
        "if os.path.exists(os.path.join(cwd, \"SCA-Tokenizer\")):\n",
        "    os.system(\"tar -czvf \\\"\" + modelOutputPath + \"/\" + timestamp + \"/SCA-Tokenizer.tar.gz\\\" \" + os.path.join(cwd, \"SCA-Tokenizer\"))\n",
        "\n",
        "#Save the AutoGrader Folder\n",
        "autoGraderDir = os.path.join(cwd, \"../Auto-Grader/\")\n",
        "if os.path.exists(autoGraderDir):\n",
        "    os.system(\"tar -czvf \\\"\" + modelOutputPath + \"/\" + timestamp + \"/Auto-Grader.tar.gz\\\" \" + autoGraderDir)\n",
        "\n",
        "#Save tokenizedGroupData\n",
        "#copy GroupDict.npy from the tokenizer folder to the model folder\n",
        "if os.path.exists(os.path.join(cwd, \"SCA-Tokenizer\", \"GroupDict.npy\")):\n",
        "    os.system(\"cp \" + os.path.join(cwd, \"SCA-Tokenizer\", \"GroupDict.npy\") + \" \" + os.path.join(modelOutputPath, timestamp, \"GroupDict.npy\"))\n",
        "\n",
        "\n",
        "\n",
        "plt.subplot(211)\n",
        "plt.title('Loss')\n",
        "plt.plot(hist.history['loss'], label='train')\n",
        "plt.plot(hist.history['val_loss'], label='test')\n",
        "plt.legend()\n",
        "# plot accuracy during training\n",
        "plt.subplot(212)\n",
        "plt.title('Accuracy')\n",
        "plt.plot(hist.history['accuracy'], label='train')\n",
        "plt.plot(hist.history['val_accuracy'], label='test')\n",
        "plt.legend()\n",
        "plt.show()"
      ]
    },
    {
      "cell_type": "code",
      "execution_count": null,
      "metadata": {},
      "outputs": [],
      "source": [
        "#Save the model in timestamp folder and with tokenizer\n",
        "timestamp = str(pd.Timestamp.now()).replace(\" \", \"_\").replace(\":\", \"-\").replace(\".\", \"-\")\n",
        "if not os.path.exists(modelOutputPath):\n",
        "    os.mkdir(modelOutputPath)\n",
        "if not os.path.exists(modelOutputPath + \"/\" + timestamp):\n",
        "    os.mkdir(modelOutputPath + \"/\" + timestamp)\n",
        "model.save(modelOutputPath + \"/\" + timestamp + \"/model.h5\")\n",
        "with open(modelOutputPath + \"/\" + timestamp + \"/tokenizer.json\", \"w\") as f:\n",
        "    f.write(tokenizer.to_json())\n",
        "#make an archaive of the SCA-Tokenizer Folder\n",
        "#get CWD\n",
        "cwd = os.getcwd()\n",
        "if os.path.exists(os.path.join(cwd, \"SCA-Tokenizer\")):\n",
        "    os.system(\"tar -czvf \\\"\" + modelOutputPath + \"/\" + timestamp + \"/SCA-Tokenizer.tar.gz\\\" \" + os.path.join(cwd, \"SCA-Tokenizer\"))\n",
        "\n",
        "#Save the AutoGrader Folder\n",
        "autoGraderDir = os.path.join(cwd, \"../Auto-Grader/\")\n",
        "if os.path.exists(autoGraderDir):\n",
        "    os.system(\"tar -czvf \\\"\" + modelOutputPath + \"/\" + timestamp + \"/Auto-Grader.tar.gz\\\" \" + autoGraderDir)"
      ]
    },
    {
      "cell_type": "code",
      "execution_count": 3,
      "metadata": {},
      "outputs": [],
      "source": [
        "import os\n",
        "timestamp = str(pd.Timestamp.now()).replace(\" \", \"_\").replace(\":\", \"-\").replace(\".\", \"-\")\n",
        "if not os.path.exists(modelOutputPath):\n",
        "    os.mkdir(modelOutputPath)\n",
        "if not os.path.exists(modelOutputPath + \"/\" + timestamp):\n",
        "    os.mkdir(modelOutputPath + \"/\" + timestamp)"
      ]
    },
    {
      "cell_type": "code",
      "execution_count": 12,
      "metadata": {},
      "outputs": [
        {
          "name": "stdout",
          "output_type": "stream",
          "text": [
            "[(None, 33), (None, 33)]\n",
            "[29, 384, 45, 374, 29, 1, 6, 1, 45, 374, 5, 1, 29, 1, 7, 142, 6, 176, 8, 9, 7, 1, 5, 142, 6, 1, 5, 176, 8, 82, 30, 22, 7, 384, 5, 1, 8, 11, 2, 18, 14, 22, 7, 12, 8, 11, 2, 2, 12, 5, 102, 7, 142, 6, 3, 10, 3, 8, 2, 2, 12, 5, 102, 7, 176, 6, 3, 10, 3, 8, 2, 2, 12, 5, 1, 7, 176, 6, 3, 10, 3, 8, 2, 2, 12, 5, 1, 7, 142, 6, 3, 10, 3, 8, 2, 2, 12, 5, 1, 7, 176, 6, 13, 8, 2, 2, 12, 5, 1, 7, 142, 6, 13, 8, 2, 2, 12, 5, 1, 7, 142, 6, 176, 8, 2, 18, 14, 25, 7, 12, 8, 11, 2, 2, 12, 5, 102, 7, 1, 7, 176, 8, 6, 142, 8, 2, 2, 12, 5, 102, 7, 1, 7, 142, 8, 6, 176, 8, 2, 18, 14, 26, 7, 12, 8, 11, 2, 2, 12, 5, 330, 7, 125, 6, 1, 6, 3, 10, 3, 8, 2, 18, 14, 28, 7, 12, 8, 11, 2, 2, 12, 5, 102, 7, 1, 7, 3, 10, 3, 8, 6, 7, 8, 8, 2, 2, 12, 5, 102, 7, 1, 7, 3, 10, 3, 8, 6, 7, 142, 6, 8, 8, 2, 2, 12, 5, 102, 7, 1, 7, 3, 10, 3, 8, 6, 7, 142, 6, 176, 6, 176, 6, 142, 8, 8, 2, 18, 14, 31, 7, 12, 8, 11, 2, 2, 12, 5, 330, 7, 125, 6, 1, 6, 3, 10, 3, 8, 0, 0, 0, 0, 0, 0, 0, 0, 0, 0, 0, 0, 0, 0, 0, 0, 0, 0, 0, 0, 0, 0, 0, 0, 0, 0, 0, 0, 0, 0, 0, 0, 0, 0, 0, 0, 0, 0, 0, 0, 0, 0, 0, 0, 0, 0, 0, 0, 0, 0, 0, 0, 0, 0, 0, 0, 0, 0, 0, 0, 0, 0, 0, 0, 0, 0, 0, 0, 0, 0, 0, 0, 0, 0, 0, 0, 0, 0, 0, 0, 0, 0, 0, 0, 0, 0, 0, 0, 0, 0, 0, 0, 0, 0, 0, 0, 0, 0, 0, 0, 0, 0, 0, 0, 0, 0, 0, 0, 0, 0, 0, 0, 0, 0, 0, 0, 0, 0, 0, 0, 0, 0, 0, 0, 0, 0, 0, 0, 0, 0, 0, 0, 0, 0, 0, 0, 0, 0, 0, 0, 0, 0, 0, 0, 0, 0, 0, 0, 0, 0, 0, 0, 0, 0, 0, 0, 0, 0, 0, 0, 0, 0, 0, 0, 0, 0, 0, 0, 0, 0, 0, 0, 0, 0, 0, 0, 0, 0, 0, 0, 0, 0, 0, 0, 0, 0, 0, 0, 0, 0, 0, 0, 0, 0, 0, 0, 0, 0, 0, 0, 0, 0, 0, 0, 0, 0, 0, 0, 0, 0, 0, 0, 0, 0, 0, 0, 0, 0, 0, 0, 0, 0, 0, 0, 0, 0, 0, 0, 0, 0, 0, 0, 0]\n"
          ]
        }
      ],
      "source": [
        "# assuming `model` is your Keras model\n",
        "#convert inputs to numpy arrays\n",
        "\n"
      ]
    }
  ],
  "metadata": {
    "colab": {
      "provenance": [],
      "toc_visible": true
    },
    "kernelspec": {
      "display_name": "Python 3",
      "language": "python",
      "name": "python3"
    },
    "language_info": {
      "codemirror_mode": {
        "name": "ipython",
        "version": 3
      },
      "file_extension": ".py",
      "mimetype": "text/x-python",
      "name": "python",
      "nbconvert_exporter": "python",
      "pygments_lexer": "ipython3",
      "version": "3.10.12"
    },
    "orig_nbformat": 4
  },
  "nbformat": 4,
  "nbformat_minor": 0
}
