{
  "cells": [
    {
      "cell_type": "code",
      "execution_count": null,
      "metadata": {
        "id": "BFlZYHLP1AyZ"
      },
      "outputs": [],
      "source": [
        "import os\n",
        "def homePath(path):\n",
        "    return os.path.join(os.path.expanduser(\"~\"), path.strip(\"~/\"))\n",
        "\n",
        "#Model Creation 1\n",
        "#Figure out how to do versioning effectively\n",
        "individualInput = False\n",
        "combinedInputPath = homePath(\"~/SPGenerations/\")\n",
        "pathToTokenizedData = \"C:\\\\Users\\\\mcall\\\\OneDrive\\\\Desktop\\\\DummyOutput\\\\Tokenizer\\\\\"\n",
        "pathToGradeData = \"C:\\\\Users\\\\mcall\\\\OneDrive\\\\Desktop\\\\DummyOutput\\\\Grader\\\\\"\n",
        "GradesTokensName = \"\"\n",
        "\n",
        "\n",
        "if not individualInput:\n",
        "    pathToTokenizedData = os.path.join(combinedInputPath, \"Tokens/\")\n",
        "    pathToGradeData = os.path.join(combinedInputPath, \"Grades/\")\n",
        "\n",
        "if GradesTokensName == \"\":\n",
        "    #Use newest folder for each\n",
        "\n",
        "    #Get the newest folder for the tokens\n",
        "    tokensFolders = os.listdir(pathToTokenizedData)\n",
        "    tokensFolders.sort()\n",
        "    pathToTokenizedData = os.path.join(pathToTokenizedData , tokensFolders[-1])\n",
        "\n",
        "    #Get the newest folder for the grades\n",
        "    gradesFolders = os.listdir(pathToGradeData)\n",
        "    gradesFolders.sort()\n",
        "    pathToGradeData = os.path.join(pathToGradeData,  gradesFolders[-1])\n",
        "else:\n",
        "    pathToTokenizedData = os.path.join(pathToTokenizedData, GradesTokensName)\n",
        "    pathToGradeData = os.path.join(pathToGradeData, GradesTokensName)\n",
        "\n",
        "\n",
        "\n",
        "\n",
        "\n",
        "modelOutputPath = homePath(\"~/SPGenerations/Models\")\n",
        "\n"
      ]
    },
    {
      "cell_type": "code",
      "execution_count": 2,
      "metadata": {
        "id": "nLHjdZFH05pS",
        "outputId": "1016b38b-0f18-42e3-8e28-1e03019b46a6"
      },
      "outputs": [
        {
          "name": "stdout",
          "output_type": "stream",
          "text": [
            "                                                tokenCode  \\\n",
            "0       [9, 2, 42, 435, 27, 759, 5, 660, 5, 632, 2, 27...   \n",
            "1       [9, 2, 42, 435, 27, 759, 5, 660, 5, 632, 2, 27...   \n",
            "2       [9, 2, 42, 435, 27, 759, 5, 660, 5, 632, 2, 27...   \n",
            "3       [9, 2, 42, 435, 27, 759, 5, 660, 5, 632, 2, 27...   \n",
            "4       [9, 2, 42, 435, 27, 632, 5, 759, 5, 660, 2, 27...   \n",
            "...                                                   ...   \n",
            "207082  [27, 685, 2, 42, 291, 27, 291, 2, 27, 840, 2, ...   \n",
            "207083  [27, 685, 2, 42, 291, 27, 291, 2, 27, 840, 2, ...   \n",
            "207084  [27, 685, 2, 42, 291, 27, 291, 2, 27, 840, 2, ...   \n",
            "207085  [42, 291, 27, 291, 2, 27, 840, 2, 27, 274, 2, ...   \n",
            "207086  [27, 685, 2, 42, 291, 27, 291, 2, 27, 840, 2, ...   \n",
            "\n",
            "                                                     Path  fileGrade  \n",
            "0             /3722273/examples/basics/finetuning.py/1.py  68.000000  \n",
            "1             /3722273/examples/basics/finetuning.py/0.py  55.000000  \n",
            "2                   /3722273/examples/basics/hdf5.py/0.py  55.000000  \n",
            "3               /3722273/examples/basics/use_hdf5.py/0.py  55.000000  \n",
            "4       /3722273/examples/basics/linear_regression.py/...  59.000000  \n",
            "...                                                   ...        ...  \n",
            "207082                    /3912822/article_maker.py/11.py  71.923077  \n",
            "207083                     /3912822/article_maker.py/8.py  67.307692  \n",
            "207084                     /3912822/article_maker.py/6.py  64.230769  \n",
            "207085                     /3912822/article_maker.py/4.py  61.153846  \n",
            "207086                     /3912822/article_maker.py/7.py  65.769231  \n",
            "\n",
            "[207087 rows x 3 columns]\n"
          ]
        }
      ],
      "source": [
        "import pandas as pd\n",
        "import numpy as np\n",
        "import pickle\n",
        "from keras.preprocessing.text import Tokenizer\n",
        "from keras.preprocessing.text import tokenizer_from_json\n",
        "from keras.preprocessing.sequence import pad_sequences\n",
        "from keras.models import Sequential\n",
        "from keras.layers import Dense, Embedding, LSTM, GRU, Dropout\n",
        "from keras.callbacks import EarlyStopping\n",
        "from keras.models import load_model\n",
        "from keras.models import model_from_json\n",
        "from keras.models import Model\n",
        "from matplotlib import pyplot as plt\n",
        "import tensorflow as tf\n",
        "import keras\n",
        "import pickle\n",
        "from keras.preprocessing.text import Tokenizer\n",
        "from keras.preprocessing.text import tokenizer_from_json\n",
        "from keras.preprocessing.sequence import pad_sequences\n",
        "from keras.models import Sequential\n",
        "import keras.layers as layers\n",
        "from keras.callbacks import EarlyStopping\n",
        "from keras.models import load_model\n",
        "from keras.models import model_from_json\n",
        "from keras.models import Model\n",
        "\n",
        "\n",
        "\n",
        "\n",
        "from keras.utils import pad_sequences\n",
        "import os\n",
        "\n",
        "\n",
        "\n",
        "#Load the data\n",
        "#tokenized data is in tokenizedData.pkl, has tokenizer obj in tokenizer.json\n",
        "\n",
        "#Load the tokenizer\n",
        "with open(pathToTokenizedData+ \"/tokenizer.json\", \"r\") as f:\n",
        "    tokenizer = tokenizer_from_json(f.read())\n",
        "\n",
        "\n",
        "\n",
        "#Load the tokenized data\n",
        "with open(pathToTokenizedData + \"/tokenizedData.pkl\", \"rb\") as f:\n",
        "    tokenizedData = pickle.load(f)\n",
        "\n",
        "#Load the grade data\n",
        "#gradeData is a dict with keys as the file names and values as the grades\n",
        "with open(pathToGradeData + \"/grades.pkl\", \"rb\") as f:\n",
        "    gradeData = pickle.load(f)\n",
        "\n",
        "combinedDF = pd.merge(tokenizedData, gradeData, on = \"Path\")\n",
        "print (combinedDF)\n",
        "\n",
        "\n",
        "\n",
        "\n",
        "\n"
      ]
    },
    {
      "cell_type": "code",
      "execution_count": 3,
      "metadata": {
        "id": "jnja4-p705pU",
        "outputId": "b79f4a7d-57af-4836-e052-f2089eaec5b5"
      },
      "outputs": [
        {
          "name": "stdout",
          "output_type": "stream",
          "text": [
            "                                                tokenCode  \\\n",
            "0       [9, 2, 42, 435, 27, 759, 5, 660, 5, 632, 2, 27...   \n",
            "1       [9, 2, 42, 435, 27, 759, 5, 660, 5, 632, 2, 27...   \n",
            "2       [9, 2, 42, 435, 27, 759, 5, 660, 5, 632, 2, 27...   \n",
            "3       [9, 2, 42, 435, 27, 759, 5, 660, 5, 632, 2, 27...   \n",
            "4       [9, 2, 42, 435, 27, 632, 5, 759, 5, 660, 2, 27...   \n",
            "...                                                   ...   \n",
            "207075  [42, 435, 27, 866, 2, 3, 20, 8, 9, 2, 3, 23, 8...   \n",
            "207076  [42, 435, 27, 866, 2, 27, 274, 2, 27, 83, 2, 3...   \n",
            "207077  [42, 435, 27, 866, 2, 27, 274, 2, 27, 83, 2, 3...   \n",
            "207078  [42, 435, 27, 866, 2, 27, 274, 2, 27, 83, 2, 3...   \n",
            "207079  [42, 435, 27, 866, 2, 27, 274, 2, 27, 83, 2, 3...   \n",
            "\n",
            "                                                     Path  fileGrade  \n",
            "0             /3722273/examples/basics/finetuning.py/1.py  68.000000  \n",
            "1             /3722273/examples/basics/finetuning.py/0.py  55.000000  \n",
            "2                   /3722273/examples/basics/hdf5.py/0.py  55.000000  \n",
            "3               /3722273/examples/basics/use_hdf5.py/0.py  55.000000  \n",
            "4       /3722273/examples/basics/linear_regression.py/...  59.000000  \n",
            "...                                                   ...        ...  \n",
            "207075                       /3912822/pelicanconf.py/6.py  57.264151  \n",
            "207076                      /3912822/pelicanconf.py/50.py  73.867925  \n",
            "207077                      /3912822/pelicanconf.py/41.py  76.471698  \n",
            "207078                      /3912822/pelicanconf.py/39.py  69.716981  \n",
            "207079                      /3912822/pelicanconf.py/45.py  71.981132  \n",
            "\n",
            "[57462 rows x 3 columns]\n"
          ]
        }
      ],
      "source": [
        "#Padding\n",
        "\n",
        "maxLen = 500\n",
        "#get rid of the ones that are too long\n",
        "combinedDF = combinedDF[combinedDF[\"tokenCode\"].apply(lambda x: len(x)) <= maxLen]\n",
        "\n",
        "#Pad the sequences\n",
        "combinedDF[\"tokenCode\"] = pad_sequences(combinedDF[\"tokenCode\"], maxlen = maxLen, padding = \"post\", truncating = \"post\").tolist()\n",
        "\n",
        "print (combinedDF)\n",
        "\n",
        "\n"
      ]
    },
    {
      "cell_type": "code",
      "execution_count": 4,
      "metadata": {
        "id": "2-_lF4pW05pU",
        "outputId": "0568f4dd-be12-4884-c67e-9e8592184df6"
      },
      "outputs": [
        {
          "data": {
            "image/png": "[encoded data removed]",
            "text/plain": [
              "<Figure size 640x480 with 1 Axes>"
            ]
          },
          "metadata": {},
          "output_type": "display_data"
        }
      ],
      "source": [
        "#create a chart of the grades\n",
        "graph = plt.hist(combinedDF['fileGrade'], bins=20, range=(0, 100))\n",
        "plt.xticks([0, 5, 10, 15, 20, 25, 30, 35, 40, 45, 50, 55, 60, 65, 70, 75, 80, 85, 90, 95, 100])\n",
        "plt.xlabel(\"Grade Range\")\n",
        "plt.ylabel(\"Number of Commits\")\n",
        "plt.show()\n",
        "\n"
      ]
    },
    {
      "cell_type": "code",
      "execution_count": 5,
      "metadata": {
        "id": "M55w1Ku405pU",
        "outputId": "937ea050-b42a-444b-bb43-11c6f48c7f33"
      },
      "outputs": [
        {
          "name": "stdout",
          "output_type": "stream",
          "text": [
            "WARNING:tensorflow:From /tmp/ipykernel_1796333/187845937.py:2: is_gpu_available (from tensorflow.python.framework.test_util) is deprecated and will be removed in a future version.\n",
            "Instructions for updating:\n",
            "Use `tf.config.list_physical_devices('GPU')` instead.\n"
          ]
        },
        {
          "name": "stderr",
          "output_type": "stream",
          "text": [
            "2023-10-21 17:21:46.398814: I tensorflow/core/common_runtime/gpu/gpu_device.cc:1886] Created device /device:GPU:0 with 13173 MB memory:  -> device: 0, name: NVIDIA A2, pci bus id: 0000:11:00.0, compute capability: 8.6\n",
            "2023-10-21 17:21:46.399823: I tensorflow/core/common_runtime/gpu/gpu_device.cc:1886] Created device /device:GPU:1 with 13173 MB memory:  -> device: 1, name: NVIDIA A2, pci bus id: 0000:b1:00.0, compute capability: 8.6\n"
          ]
        }
      ],
      "source": [
        "#test to make sure gpu is detected and save as bool\n",
        "gpu_detected = tf.test.is_gpu_available()\n"
      ]
    },
    {
      "cell_type": "code",
      "execution_count": 14,
      "metadata": {},
      "outputs": [
        {
          "name": "stdout",
          "output_type": "stream",
          "text": [
            "ba5f723144744db29f788391b0b1b7a24bb8214f\n",
            "\n"
          ]
        }
      ],
      "source": []
    },
    {
      "cell_type": "code",
      "execution_count": null,
      "metadata": {
        "id": "Nu6hyuey05pU",
        "outputId": "2d9cf582-6a4a-46ad-e21c-e84a8f2eecce"
      },
      "outputs": [
        {
          "name": "stdout",
          "output_type": "stream",
          "text": [
            "Model: \"sequential_3\"\n",
            "_________________________________________________________________\n",
            " Layer (type)                Output Shape              Param #   \n",
            "=================================================================\n",
            " embedding_3 (Embedding)     (None, 1000, 1024)        10240000  \n",
            "                                                                 \n",
            " conv1d_2 (Conv1D)           (None, 998, 2048)         6293504   \n",
            "                                                                 \n",
            " global_max_pooling1d_2 (Gl  (None, 2048)              0         \n",
            " obalMaxPooling1D)                                               \n",
            "                                                                 \n",
            " reshape_2 (Reshape)         (None, 1, 2048)           0         \n",
            "                                                                 \n",
            " bidirectional_4 (Bidirecti  (None, 1, 2048)           25174016  \n",
            " onal)                                                           \n",
            "                                                                 \n",
            " dropout_2 (Dropout)         (None, 1, 2048)           0         \n",
            "                                                                 \n",
            " bidirectional_5 (Bidirecti  (None, 1024)              10489856  \n",
            " onal)                                                           \n",
            "                                                                 \n",
            " flatten_2 (Flatten)         (None, 1024)              0         \n",
            "                                                                 \n",
            " dense_4 (Dense)             (None, 2048)              2099200   \n",
            "                                                                 \n",
            " dense_5 (Dense)             (None, 1)                 2049      \n",
            "                                                                 \n",
            "=================================================================\n",
            "Total params: 54298625 (207.13 MB)\n",
            "Trainable params: 54298625 (207.13 MB)\n",
            "Non-trainable params: 0 (0.00 Byte)\n",
            "_________________________________________________________________\n",
            "None\n",
            "Epoch 1/100\n",
            "15/15 [==============================] - 36s 2s/step - loss: 2.7049 - mse: 2120.7378 - mae: 43.1821 - mape: 90.6876 - accuracy: 0.0000e+00\n",
            "Epoch 2/100\n",
            "15/15 [==============================] - 31s 2s/step - loss: 0.1199 - mse: 440.0378 - mae: 16.2610 - mape: 34.5710 - accuracy: 0.0000e+00\n",
            "Epoch 3/100\n",
            "15/15 [==============================] - 30s 2s/step - loss: 0.0293 - mse: 70.5806 - mae: 6.7332 - mape: 13.3171 - accuracy: 0.0000e+00\n",
            "Epoch 4/100\n",
            "15/15 [==============================] - 30s 2s/step - loss: 0.0189 - mse: 45.9325 - mae: 5.7743 - mape: 12.4090 - accuracy: 0.0000e+00\n",
            "Epoch 5/100\n",
            "15/15 [==============================] - 31s 2s/step - loss: 0.0173 - mse: 44.3198 - mae: 5.5429 - mape: 11.1424 - accuracy: 0.0000e+00\n",
            "Epoch 6/100\n",
            "15/15 [==============================] - 31s 2s/step - loss: 0.0166 - mse: 41.6066 - mae: 5.4149 - mape: 11.2318 - accuracy: 0.0000e+00\n",
            "Epoch 7/100\n",
            "15/15 [==============================] - 31s 2s/step - loss: 0.0163 - mse: 40.9572 - mae: 5.3937 - mape: 11.1361 - accuracy: 0.0000e+00\n",
            "Epoch 8/100\n",
            "15/15 [==============================] - 30s 2s/step - loss: 0.0163 - mse: 40.9936 - mae: 5.3909 - mape: 11.1030 - accuracy: 0.0000e+00\n",
            "Epoch 9/100\n",
            " 8/15 [===============>..............] - ETA: 14s - loss: 0.0162 - mse: 41.4582 - mae: 5.4290 - mape: 11.0303 - accuracy: 0.0000e+00"
          ]
        }
      ],
      "source": [
        "#if (not gpu_detected):\n",
        "#    print(\"GPU not detected, using CPU\")\n",
        "\n",
        "model = Sequential()\n",
        "model.add(Embedding(tokenizer.num_words, 1024, input_length=maxLen))\n",
        "model.add(layers.Conv1D(2048, 3, activation='relu'))\n",
        "model.add(layers.GlobalMaxPooling1D())\n",
        "model.add(layers.Reshape((1, 2048)))\n",
        "model.add(layers.Bidirectional(LSTM(1024, return_sequences=True)))\n",
        "model.add(Dropout(0.38479930887149405))\n",
        "model.add(layers.Bidirectional(LSTM(512)))\n",
        "model.add(layers.Flatten())\n",
        "model.add(Dense(2048, activation='relu'))\n",
        "model.add(Dense(1, activation='linear'))\n",
        "\n",
        "print(model.summary())\n",
        "\n",
        "model.compile(loss='mean_squared_logarithmic_error', optimizer='Adam', metrics=['mse', 'mae', 'mape', 'accuracy'])\n",
        "\n",
        "hist = model.fit(combinedDF[\"tokenCode\"].tolist(), combinedDF[\"fileGrade\"].tolist(), epochs=100, batch_size=32,verbose = 1)\n",
        "\n",
        "plt.subplot(211)\n",
        "plt.title('Loss')\n",
        "plt.plot(hist.history['loss'], label='train')\n",
        "plt.plot(hist.history['val_loss'], label='test')\n",
        "plt.legend()\n",
        "# plot accuracy during training\n",
        "plt.subplot(212)\n",
        "plt.title('Accuracy')\n",
        "plt.plot(hist.history['accuracy'], label='train')\n",
        "plt.plot(hist.history['val_accuracy'], label='test')\n",
        "plt.legend()\n",
        "plt.show()\n",
        "\n",
        "#Save the model in timestamp folder and with tokenizer\n",
        "timestamp = str(pd.Timestamp.now())\n",
        "if not os.path.exists(modelOutputPath):\n",
        "    os.mkdir(modelOutputPath)\n",
        "if not os.path.exists(modelOutputPath + \"/\" + timestamp):\n",
        "    os.mkdir(modelOutputPath + \"/\" + timestamp)\n",
        "model.save(modelOutputPath + \"/\" + timestamp + \"/model.h5\")\n",
        "with open(modelOutputPath + \"/\" + timestamp + \"/tokenizer.json\", \"w\") as f:\n",
        "    f.write(tokenizer.to_json())\n",
        "#get the commit hash for the SCA-Tokenizer submodule in the SCA-Tokenizer folder\n",
        "currentPath = os.getcwd()\n",
        "#strip off last dir\n",
        "currentPath = currentPath[:currentPath.rfind(\"/\")]\n",
        "with open(currentPath + '/.git/modules/Model-Generation/SCA-Tokenizer/', 'r') as f:\n",
        "    commitHash = f.read()\n",
        "with open(modelOutputPath + \"/\" + timestamp + \"/commitHash.txt\", \"w\") as f:\n",
        "    f.write(commitHash)\n",
        "\n",
        "\n"
      ]
    }
  ],
  "metadata": {
    "colab": {
      "provenance": [],
      "toc_visible": true
    },
    "kernelspec": {
      "display_name": "Python 3",
      "language": "python",
      "name": "python3"
    },
    "language_info": {
      "codemirror_mode": {
        "name": "ipython",
        "version": 3
      },
      "file_extension": ".py",
      "mimetype": "text/x-python",
      "name": "python",
      "nbconvert_exporter": "python",
      "pygments_lexer": "ipython3",
      "version": "3.10.12"
    },
    "orig_nbformat": 4
  },
  "nbformat": 4,
  "nbformat_minor": 0
}
